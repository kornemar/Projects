{
  "nbformat": 4,
  "nbformat_minor": 0,
  "metadata": {
    "colab": {
      "provenance": []
    },
    "kernelspec": {
      "name": "python3",
      "display_name": "Python 3"
    },
    "language_info": {
      "name": "python"
    }
  },
  "cells": [
    {
      "cell_type": "markdown",
      "source": [
        "## **Specialization Module: Python for Data Analytics**\n",
        "\n",
        "\n",
        "---\n",
        "\n"
      ],
      "metadata": {
        "id": "s37llE1NCRTu"
      }
    },
    {
      "cell_type": "markdown",
      "source": [
        "# **Parameters**\n",
        "\n",
        "*  **Task**: To analyze data with Python and create a notebook, where to show the Python and analytical skills\n",
        "*  **Ask**: On which customer groups should the marketing team focus?\n",
        "*  **Requestor (POC)**: Turing College\n",
        "*  **Data Source**: Internal data tc-da-1.turing_data_analytics.rfm (BigQuery)\n",
        "*  **Metrics**: Listed below in the EDA part of the analysis\n",
        "*  **Territory**: All countries\n",
        "*  **Time Period**: From 2010-12-01 to 2011-12-09\n",
        "*  **Outcome**: Google Colab notebook with EDA and visualizations using Python libraries\n",
        "*  **Deadline**: 08.05.2024\n",
        "*  **Delivered**: 16.04.2024\n",
        "\n",
        "\n",
        "\n",
        "---\n",
        "\n",
        "\n"
      ],
      "metadata": {
        "id": "9pT8GlYpCb6I"
      }
    },
    {
      "cell_type": "markdown",
      "source": [
        "# **RFM Analysis**\n"
      ],
      "metadata": {
        "id": "RukJNTA7CW7p"
      }
    },
    {
      "cell_type": "markdown",
      "source": [
        "**RFM** stands for Recency, Frequency, and Monetary value. It's a powerful method for categorizing and understanding the customer base based on their transaction history and common characteristics - how recently, how often and how much they buy.\n",
        "\n",
        "**Customer segmentation** is beneficial in marketing campaigns, identifying potentially profitable customers and developing customer loyalty. It helps to gain deeper knowledge of customers and tailor targeted marketing campaigns to increase sales, satisfaction and customer lifetime value.\n",
        "\n",
        "The goal of this analysis is to identify customer segments for a given dataset using RFM analysis and to understand how those groups differ from each other.\n",
        "\n",
        "\n"
      ],
      "metadata": {
        "id": "t0YiCSMtHid7"
      }
    },
    {
      "cell_type": "code",
      "source": [
        "import pandas as pd\n",
        "import numpy as np\n",
        "import matplotlib.pyplot as plt\n",
        "import seaborn as sns\n",
        "\n",
        "from datetime import datetime\n",
        "\n",
        "!pip install inflection\n",
        "import inflection # for performing string transformation tasks\n",
        "\n",
        "pd.options.display.float_format = '{:,.1f}'.format # for displaying floating-point numbers with one decimal place by default"
      ],
      "metadata": {
        "colab": {
          "base_uri": "https://localhost:8080/"
        },
        "id": "8HCcTGrNLpUG",
        "outputId": "5891a544-412e-4559-e134-53471e4e44db"
      },
      "execution_count": 191,
      "outputs": [
        {
          "output_type": "stream",
          "name": "stdout",
          "text": [
            "Requirement already satisfied: inflection in /usr/local/lib/python3.10/dist-packages (0.5.1)\n"
          ]
        }
      ]
    },
    {
      "cell_type": "code",
      "source": [
        "# Accessing BigQuery Datasets using Google Colab\n",
        "from google.colab import auth\n",
        "auth.authenticate_user()\n",
        "#print('Authenticated')"
      ],
      "metadata": {
        "id": "5qhHBVi4L0uQ"
      },
      "execution_count": 192,
      "outputs": []
    },
    {
      "cell_type": "code",
      "source": [
        "# Setting up a connection to Google BigQuery and accessing a specific dataset within it\n",
        "project_id = 'tc-da-1'\n",
        "\n",
        "from google.cloud import bigquery\n",
        "\n",
        "client = bigquery.Client(project=project_id)\n",
        "dataset_ref = client.dataset(\"turing_data_analytics\", project = project_id)\n",
        "dataset = client.get_dataset(dataset_ref)"
      ],
      "metadata": {
        "id": "LE8ydIx8L-wN"
      },
      "execution_count": 193,
      "outputs": []
    },
    {
      "cell_type": "code",
      "source": [
        "tables = list(client.list_tables(dataset))\n",
        "\n",
        "for table in tables:\n",
        "  print(table.table_id)"
      ],
      "metadata": {
        "colab": {
          "base_uri": "https://localhost:8080/"
        },
        "id": "WJAYeKeZMCqO",
        "outputId": "58b150b1-8fd9-4f3d-a823-432b4ce4e94c"
      },
      "execution_count": 194,
      "outputs": [
        {
          "output_type": "stream",
          "name": "stdout",
          "text": [
            "adsense_monthly\n",
            "bank_loans_data\n",
            "bank_loans_stats\n",
            "raw_events\n",
            "rfm\n",
            "rfm_quantiles\n",
            "rfm_score\n",
            "rfm_value\n",
            "stackoverflow_posts\n",
            "subscriptions\n"
          ]
        }
      ]
    },
    {
      "cell_type": "code",
      "source": [
        "# Accessing 'rfm' table\n",
        "sql_table_id = tables[4]\n",
        "sql_table_id\n",
        "\n",
        "# Loading Data to a Dataframe\n",
        "rfm_df = client.list_rows(sql_table_id).to_dataframe()"
      ],
      "metadata": {
        "id": "J6B33Z4eMHek"
      },
      "execution_count": 195,
      "outputs": []
    },
    {
      "cell_type": "markdown",
      "source": [
        "**Data Exploration**\n",
        "\n",
        "\n",
        "---\n",
        "\n"
      ],
      "metadata": {
        "id": "PQkoWPCoaNle"
      }
    },
    {
      "cell_type": "markdown",
      "source": [
        "In this step, I explore the dataset, understanding its size, the types of variables it contains and gaining a sense of the data distribution."
      ],
      "metadata": {
        "id": "1Bdrbx-sG2EN"
      }
    },
    {
      "cell_type": "code",
      "source": [
        "rfm_df.info()"
      ],
      "metadata": {
        "colab": {
          "base_uri": "https://localhost:8080/"
        },
        "id": "cWlv5a00MQu-",
        "outputId": "864c7f6e-e3d7-4f03-fdea-0e8911b29b5f"
      },
      "execution_count": 196,
      "outputs": [
        {
          "output_type": "stream",
          "name": "stdout",
          "text": [
            "<class 'pandas.core.frame.DataFrame'>\n",
            "RangeIndex: 541909 entries, 0 to 541908\n",
            "Data columns (total 8 columns):\n",
            " #   Column       Non-Null Count   Dtype              \n",
            "---  ------       --------------   -----              \n",
            " 0   InvoiceNo    541909 non-null  object             \n",
            " 1   StockCode    541909 non-null  object             \n",
            " 2   Description  540455 non-null  object             \n",
            " 3   Quantity     541909 non-null  Int64              \n",
            " 4   InvoiceDate  541909 non-null  datetime64[us, UTC]\n",
            " 5   UnitPrice    541909 non-null  float64            \n",
            " 6   CustomerID   406829 non-null  Int64              \n",
            " 7   Country      541909 non-null  object             \n",
            "dtypes: Int64(2), datetime64[us, UTC](1), float64(1), object(4)\n",
            "memory usage: 34.1+ MB\n"
          ]
        }
      ]
    },
    {
      "cell_type": "markdown",
      "source": [
        "Attribute information:\n",
        "\n",
        "* **InvoiceNo**: A number uniquely assigned to each transaction.\n",
        "* **StockCode**: A number uniquely assigned to each distinct product.\n",
        "* **Description**: Product name.\n",
        "* **Quantity**: The quantity of each product sold per invoice.\n",
        "* **InvoiceDate**: Invoice date and time.\n",
        "* **UnitPrice**: Product price per unit.\n",
        "* **CustomerID**: A number uniquely assigned to each customer.\n",
        "* **Country**: Country of purchase.\n",
        "\n"
      ],
      "metadata": {
        "id": "7DSZvPwoK4Nk"
      }
    },
    {
      "cell_type": "markdown",
      "source": [
        "What's observed here:\n",
        "\n",
        "There are missing values in some rows of the 'CustomerID' and 'Description' columns, as indicated by the difference in row counts compared to other columns. I'll investigate this further later."
      ],
      "metadata": {
        "id": "Jxg0T2Pu-6g-"
      }
    },
    {
      "cell_type": "code",
      "source": [
        "rfm_df.describe().T"
      ],
      "metadata": {
        "colab": {
          "base_uri": "https://localhost:8080/",
          "height": 143
        },
        "id": "UxgWWKIANGiC",
        "outputId": "795d0dd7-b385-4b0c-9356-2b36c6bd66fc"
      },
      "execution_count": 197,
      "outputs": [
        {
          "output_type": "execute_result",
          "data": {
            "text/plain": [
              "               count     mean     std       min      25%      50%      75%  \\\n",
              "Quantity   541,909.0      9.6   218.1 -80,995.0      1.0      3.0     10.0   \n",
              "UnitPrice  541,909.0      4.6    96.8 -11,062.1      1.2      2.1      4.1   \n",
              "CustomerID 406,829.0 15,287.7 1,713.6  12,346.0 13,953.0 15,152.0 16,791.0   \n",
              "\n",
              "                max  \n",
              "Quantity   80,995.0  \n",
              "UnitPrice  38,970.0  \n",
              "CustomerID 18,287.0  "
            ],
            "text/html": [
              "\n",
              "  <div id=\"df-a301375f-39ad-416b-9041-6ca42dd44d1d\" class=\"colab-df-container\">\n",
              "    <div>\n",
              "<style scoped>\n",
              "    .dataframe tbody tr th:only-of-type {\n",
              "        vertical-align: middle;\n",
              "    }\n",
              "\n",
              "    .dataframe tbody tr th {\n",
              "        vertical-align: top;\n",
              "    }\n",
              "\n",
              "    .dataframe thead th {\n",
              "        text-align: right;\n",
              "    }\n",
              "</style>\n",
              "<table border=\"1\" class=\"dataframe\">\n",
              "  <thead>\n",
              "    <tr style=\"text-align: right;\">\n",
              "      <th></th>\n",
              "      <th>count</th>\n",
              "      <th>mean</th>\n",
              "      <th>std</th>\n",
              "      <th>min</th>\n",
              "      <th>25%</th>\n",
              "      <th>50%</th>\n",
              "      <th>75%</th>\n",
              "      <th>max</th>\n",
              "    </tr>\n",
              "  </thead>\n",
              "  <tbody>\n",
              "    <tr>\n",
              "      <th>Quantity</th>\n",
              "      <td>541,909.0</td>\n",
              "      <td>9.6</td>\n",
              "      <td>218.1</td>\n",
              "      <td>-80,995.0</td>\n",
              "      <td>1.0</td>\n",
              "      <td>3.0</td>\n",
              "      <td>10.0</td>\n",
              "      <td>80,995.0</td>\n",
              "    </tr>\n",
              "    <tr>\n",
              "      <th>UnitPrice</th>\n",
              "      <td>541,909.0</td>\n",
              "      <td>4.6</td>\n",
              "      <td>96.8</td>\n",
              "      <td>-11,062.1</td>\n",
              "      <td>1.2</td>\n",
              "      <td>2.1</td>\n",
              "      <td>4.1</td>\n",
              "      <td>38,970.0</td>\n",
              "    </tr>\n",
              "    <tr>\n",
              "      <th>CustomerID</th>\n",
              "      <td>406,829.0</td>\n",
              "      <td>15,287.7</td>\n",
              "      <td>1,713.6</td>\n",
              "      <td>12,346.0</td>\n",
              "      <td>13,953.0</td>\n",
              "      <td>15,152.0</td>\n",
              "      <td>16,791.0</td>\n",
              "      <td>18,287.0</td>\n",
              "    </tr>\n",
              "  </tbody>\n",
              "</table>\n",
              "</div>\n",
              "    <div class=\"colab-df-buttons\">\n",
              "\n",
              "  <div class=\"colab-df-container\">\n",
              "    <button class=\"colab-df-convert\" onclick=\"convertToInteractive('df-a301375f-39ad-416b-9041-6ca42dd44d1d')\"\n",
              "            title=\"Convert this dataframe to an interactive table.\"\n",
              "            style=\"display:none;\">\n",
              "\n",
              "  <svg xmlns=\"http://www.w3.org/2000/svg\" height=\"24px\" viewBox=\"0 -960 960 960\">\n",
              "    <path d=\"M120-120v-720h720v720H120Zm60-500h600v-160H180v160Zm220 220h160v-160H400v160Zm0 220h160v-160H400v160ZM180-400h160v-160H180v160Zm440 0h160v-160H620v160ZM180-180h160v-160H180v160Zm440 0h160v-160H620v160Z\"/>\n",
              "  </svg>\n",
              "    </button>\n",
              "\n",
              "  <style>\n",
              "    .colab-df-container {\n",
              "      display:flex;\n",
              "      gap: 12px;\n",
              "    }\n",
              "\n",
              "    .colab-df-convert {\n",
              "      background-color: #E8F0FE;\n",
              "      border: none;\n",
              "      border-radius: 50%;\n",
              "      cursor: pointer;\n",
              "      display: none;\n",
              "      fill: #1967D2;\n",
              "      height: 32px;\n",
              "      padding: 0 0 0 0;\n",
              "      width: 32px;\n",
              "    }\n",
              "\n",
              "    .colab-df-convert:hover {\n",
              "      background-color: #E2EBFA;\n",
              "      box-shadow: 0px 1px 2px rgba(60, 64, 67, 0.3), 0px 1px 3px 1px rgba(60, 64, 67, 0.15);\n",
              "      fill: #174EA6;\n",
              "    }\n",
              "\n",
              "    .colab-df-buttons div {\n",
              "      margin-bottom: 4px;\n",
              "    }\n",
              "\n",
              "    [theme=dark] .colab-df-convert {\n",
              "      background-color: #3B4455;\n",
              "      fill: #D2E3FC;\n",
              "    }\n",
              "\n",
              "    [theme=dark] .colab-df-convert:hover {\n",
              "      background-color: #434B5C;\n",
              "      box-shadow: 0px 1px 3px 1px rgba(0, 0, 0, 0.15);\n",
              "      filter: drop-shadow(0px 1px 2px rgba(0, 0, 0, 0.3));\n",
              "      fill: #FFFFFF;\n",
              "    }\n",
              "  </style>\n",
              "\n",
              "    <script>\n",
              "      const buttonEl =\n",
              "        document.querySelector('#df-a301375f-39ad-416b-9041-6ca42dd44d1d button.colab-df-convert');\n",
              "      buttonEl.style.display =\n",
              "        google.colab.kernel.accessAllowed ? 'block' : 'none';\n",
              "\n",
              "      async function convertToInteractive(key) {\n",
              "        const element = document.querySelector('#df-a301375f-39ad-416b-9041-6ca42dd44d1d');\n",
              "        const dataTable =\n",
              "          await google.colab.kernel.invokeFunction('convertToInteractive',\n",
              "                                                    [key], {});\n",
              "        if (!dataTable) return;\n",
              "\n",
              "        const docLinkHtml = 'Like what you see? Visit the ' +\n",
              "          '<a target=\"_blank\" href=https://colab.research.google.com/notebooks/data_table.ipynb>data table notebook</a>'\n",
              "          + ' to learn more about interactive tables.';\n",
              "        element.innerHTML = '';\n",
              "        dataTable['output_type'] = 'display_data';\n",
              "        await google.colab.output.renderOutput(dataTable, element);\n",
              "        const docLink = document.createElement('div');\n",
              "        docLink.innerHTML = docLinkHtml;\n",
              "        element.appendChild(docLink);\n",
              "      }\n",
              "    </script>\n",
              "  </div>\n",
              "\n",
              "\n",
              "<div id=\"df-16bdb326-f561-4235-940e-77908de9c8d9\">\n",
              "  <button class=\"colab-df-quickchart\" onclick=\"quickchart('df-16bdb326-f561-4235-940e-77908de9c8d9')\"\n",
              "            title=\"Suggest charts\"\n",
              "            style=\"display:none;\">\n",
              "\n",
              "<svg xmlns=\"http://www.w3.org/2000/svg\" height=\"24px\"viewBox=\"0 0 24 24\"\n",
              "     width=\"24px\">\n",
              "    <g>\n",
              "        <path d=\"M19 3H5c-1.1 0-2 .9-2 2v14c0 1.1.9 2 2 2h14c1.1 0 2-.9 2-2V5c0-1.1-.9-2-2-2zM9 17H7v-7h2v7zm4 0h-2V7h2v10zm4 0h-2v-4h2v4z\"/>\n",
              "    </g>\n",
              "</svg>\n",
              "  </button>\n",
              "\n",
              "<style>\n",
              "  .colab-df-quickchart {\n",
              "      --bg-color: #E8F0FE;\n",
              "      --fill-color: #1967D2;\n",
              "      --hover-bg-color: #E2EBFA;\n",
              "      --hover-fill-color: #174EA6;\n",
              "      --disabled-fill-color: #AAA;\n",
              "      --disabled-bg-color: #DDD;\n",
              "  }\n",
              "\n",
              "  [theme=dark] .colab-df-quickchart {\n",
              "      --bg-color: #3B4455;\n",
              "      --fill-color: #D2E3FC;\n",
              "      --hover-bg-color: #434B5C;\n",
              "      --hover-fill-color: #FFFFFF;\n",
              "      --disabled-bg-color: #3B4455;\n",
              "      --disabled-fill-color: #666;\n",
              "  }\n",
              "\n",
              "  .colab-df-quickchart {\n",
              "    background-color: var(--bg-color);\n",
              "    border: none;\n",
              "    border-radius: 50%;\n",
              "    cursor: pointer;\n",
              "    display: none;\n",
              "    fill: var(--fill-color);\n",
              "    height: 32px;\n",
              "    padding: 0;\n",
              "    width: 32px;\n",
              "  }\n",
              "\n",
              "  .colab-df-quickchart:hover {\n",
              "    background-color: var(--hover-bg-color);\n",
              "    box-shadow: 0 1px 2px rgba(60, 64, 67, 0.3), 0 1px 3px 1px rgba(60, 64, 67, 0.15);\n",
              "    fill: var(--button-hover-fill-color);\n",
              "  }\n",
              "\n",
              "  .colab-df-quickchart-complete:disabled,\n",
              "  .colab-df-quickchart-complete:disabled:hover {\n",
              "    background-color: var(--disabled-bg-color);\n",
              "    fill: var(--disabled-fill-color);\n",
              "    box-shadow: none;\n",
              "  }\n",
              "\n",
              "  .colab-df-spinner {\n",
              "    border: 2px solid var(--fill-color);\n",
              "    border-color: transparent;\n",
              "    border-bottom-color: var(--fill-color);\n",
              "    animation:\n",
              "      spin 1s steps(1) infinite;\n",
              "  }\n",
              "\n",
              "  @keyframes spin {\n",
              "    0% {\n",
              "      border-color: transparent;\n",
              "      border-bottom-color: var(--fill-color);\n",
              "      border-left-color: var(--fill-color);\n",
              "    }\n",
              "    20% {\n",
              "      border-color: transparent;\n",
              "      border-left-color: var(--fill-color);\n",
              "      border-top-color: var(--fill-color);\n",
              "    }\n",
              "    30% {\n",
              "      border-color: transparent;\n",
              "      border-left-color: var(--fill-color);\n",
              "      border-top-color: var(--fill-color);\n",
              "      border-right-color: var(--fill-color);\n",
              "    }\n",
              "    40% {\n",
              "      border-color: transparent;\n",
              "      border-right-color: var(--fill-color);\n",
              "      border-top-color: var(--fill-color);\n",
              "    }\n",
              "    60% {\n",
              "      border-color: transparent;\n",
              "      border-right-color: var(--fill-color);\n",
              "    }\n",
              "    80% {\n",
              "      border-color: transparent;\n",
              "      border-right-color: var(--fill-color);\n",
              "      border-bottom-color: var(--fill-color);\n",
              "    }\n",
              "    90% {\n",
              "      border-color: transparent;\n",
              "      border-bottom-color: var(--fill-color);\n",
              "    }\n",
              "  }\n",
              "</style>\n",
              "\n",
              "  <script>\n",
              "    async function quickchart(key) {\n",
              "      const quickchartButtonEl =\n",
              "        document.querySelector('#' + key + ' button');\n",
              "      quickchartButtonEl.disabled = true;  // To prevent multiple clicks.\n",
              "      quickchartButtonEl.classList.add('colab-df-spinner');\n",
              "      try {\n",
              "        const charts = await google.colab.kernel.invokeFunction(\n",
              "            'suggestCharts', [key], {});\n",
              "      } catch (error) {\n",
              "        console.error('Error during call to suggestCharts:', error);\n",
              "      }\n",
              "      quickchartButtonEl.classList.remove('colab-df-spinner');\n",
              "      quickchartButtonEl.classList.add('colab-df-quickchart-complete');\n",
              "    }\n",
              "    (() => {\n",
              "      let quickchartButtonEl =\n",
              "        document.querySelector('#df-16bdb326-f561-4235-940e-77908de9c8d9 button');\n",
              "      quickchartButtonEl.style.display =\n",
              "        google.colab.kernel.accessAllowed ? 'block' : 'none';\n",
              "    })();\n",
              "  </script>\n",
              "</div>\n",
              "    </div>\n",
              "  </div>\n"
            ],
            "application/vnd.google.colaboratory.intrinsic+json": {
              "type": "dataframe",
              "summary": "{\n  \"name\": \"rfm_df\",\n  \"rows\": 3,\n  \"fields\": [\n    {\n      \"column\": \"count\",\n      \"properties\": {\n        \"dtype\": \"date\",\n        \"min\": 406829.0,\n        \"max\": 541909.0,\n        \"num_unique_values\": 2,\n        \"samples\": [\n          406829.0,\n          541909.0\n        ],\n        \"semantic_type\": \"\",\n        \"description\": \"\"\n      }\n    },\n    {\n      \"column\": \"mean\",\n      \"properties\": {\n        \"dtype\": \"date\",\n        \"min\": 4.611113626088513,\n        \"max\": 15287.690570239585,\n        \"num_unique_values\": 3,\n        \"samples\": [\n          9.55224954743324,\n          4.611113626088513\n        ],\n        \"semantic_type\": \"\",\n        \"description\": \"\"\n      }\n    },\n    {\n      \"column\": \"std\",\n      \"properties\": {\n        \"dtype\": \"date\",\n        \"min\": 96.75985306117937,\n        \"max\": 1713.6003033215977,\n        \"num_unique_values\": 3,\n        \"samples\": [\n          218.08115785023386,\n          96.75985306117937\n        ],\n        \"semantic_type\": \"\",\n        \"description\": \"\"\n      }\n    },\n    {\n      \"column\": \"min\",\n      \"properties\": {\n        \"dtype\": \"date\",\n        \"min\": -80995.0,\n        \"max\": 12346.0,\n        \"num_unique_values\": 3,\n        \"samples\": [\n          -80995.0,\n          -11062.06\n        ],\n        \"semantic_type\": \"\",\n        \"description\": \"\"\n      }\n    },\n    {\n      \"column\": \"25%\",\n      \"properties\": {\n        \"dtype\": \"date\",\n        \"min\": 1.0,\n        \"max\": 13953.0,\n        \"num_unique_values\": 3,\n        \"samples\": [\n          1.0,\n          1.25\n        ],\n        \"semantic_type\": \"\",\n        \"description\": \"\"\n      }\n    },\n    {\n      \"column\": \"50%\",\n      \"properties\": {\n        \"dtype\": \"date\",\n        \"min\": 2.08,\n        \"max\": 15152.0,\n        \"num_unique_values\": 3,\n        \"samples\": [\n          3.0,\n          2.08\n        ],\n        \"semantic_type\": \"\",\n        \"description\": \"\"\n      }\n    },\n    {\n      \"column\": \"75%\",\n      \"properties\": {\n        \"dtype\": \"date\",\n        \"min\": 4.13,\n        \"max\": 16791.0,\n        \"num_unique_values\": 3,\n        \"samples\": [\n          10.0,\n          4.13\n        ],\n        \"semantic_type\": \"\",\n        \"description\": \"\"\n      }\n    },\n    {\n      \"column\": \"max\",\n      \"properties\": {\n        \"dtype\": \"date\",\n        \"min\": 18287.0,\n        \"max\": 80995.0,\n        \"num_unique_values\": 3,\n        \"samples\": [\n          80995.0,\n          38970.0\n        ],\n        \"semantic_type\": \"\",\n        \"description\": \"\"\n      }\n    }\n  ]\n}"
            }
          },
          "metadata": {},
          "execution_count": 197
        }
      ]
    },
    {
      "cell_type": "markdown",
      "source": [
        "What's observed here:\n",
        "\n",
        "The 'Quantity' and 'UnitPrice' columns contain negative values. I'll investigate this further later."
      ],
      "metadata": {
        "id": "BcxTR908fK0m"
      }
    },
    {
      "cell_type": "code",
      "source": [
        "# Converting the column names to snake_case\n",
        "rfm_df.columns = [inflection.underscore(col) for col in rfm_df.columns]"
      ],
      "metadata": {
        "id": "krC1b0yqOLgd"
      },
      "execution_count": 198,
      "outputs": []
    },
    {
      "cell_type": "code",
      "source": [
        "rfm_df.head()"
      ],
      "metadata": {
        "colab": {
          "base_uri": "https://localhost:8080/",
          "height": 206
        },
        "id": "6UXqKTFxOQGq",
        "outputId": "330acdbe-b4ec-4738-e16d-d98ee2024896"
      },
      "execution_count": 199,
      "outputs": [
        {
          "output_type": "execute_result",
          "data": {
            "text/plain": [
              "  invoice_no stock_code                        description  quantity  \\\n",
              "0     536414      22139                               None        56   \n",
              "1     536544      22081         RIBBON REEL FLORA + FAUNA          1   \n",
              "2     536544      22100           SKULLS SQUARE TISSUE BOX         1   \n",
              "3     536544      22114  HOT WATER BOTTLE TEA AND SYMPATHY         3   \n",
              "4     536544      22196       SMALL HEART MEASURING SPOONS         2   \n",
              "\n",
              "               invoice_date  unit_price  customer_id         country  \n",
              "0 2010-12-01 11:52:00+00:00         0.0         <NA>  United Kingdom  \n",
              "1 2010-12-01 14:32:00+00:00         3.4         <NA>  United Kingdom  \n",
              "2 2010-12-01 14:32:00+00:00         2.5         <NA>  United Kingdom  \n",
              "3 2010-12-01 14:32:00+00:00         8.5         <NA>  United Kingdom  \n",
              "4 2010-12-01 14:32:00+00:00         1.7         <NA>  United Kingdom  "
            ],
            "text/html": [
              "\n",
              "  <div id=\"df-8832f316-dea6-4cc2-b68c-f85009554993\" class=\"colab-df-container\">\n",
              "    <div>\n",
              "<style scoped>\n",
              "    .dataframe tbody tr th:only-of-type {\n",
              "        vertical-align: middle;\n",
              "    }\n",
              "\n",
              "    .dataframe tbody tr th {\n",
              "        vertical-align: top;\n",
              "    }\n",
              "\n",
              "    .dataframe thead th {\n",
              "        text-align: right;\n",
              "    }\n",
              "</style>\n",
              "<table border=\"1\" class=\"dataframe\">\n",
              "  <thead>\n",
              "    <tr style=\"text-align: right;\">\n",
              "      <th></th>\n",
              "      <th>invoice_no</th>\n",
              "      <th>stock_code</th>\n",
              "      <th>description</th>\n",
              "      <th>quantity</th>\n",
              "      <th>invoice_date</th>\n",
              "      <th>unit_price</th>\n",
              "      <th>customer_id</th>\n",
              "      <th>country</th>\n",
              "    </tr>\n",
              "  </thead>\n",
              "  <tbody>\n",
              "    <tr>\n",
              "      <th>0</th>\n",
              "      <td>536414</td>\n",
              "      <td>22139</td>\n",
              "      <td>None</td>\n",
              "      <td>56</td>\n",
              "      <td>2010-12-01 11:52:00+00:00</td>\n",
              "      <td>0.0</td>\n",
              "      <td>&lt;NA&gt;</td>\n",
              "      <td>United Kingdom</td>\n",
              "    </tr>\n",
              "    <tr>\n",
              "      <th>1</th>\n",
              "      <td>536544</td>\n",
              "      <td>22081</td>\n",
              "      <td>RIBBON REEL FLORA + FAUNA</td>\n",
              "      <td>1</td>\n",
              "      <td>2010-12-01 14:32:00+00:00</td>\n",
              "      <td>3.4</td>\n",
              "      <td>&lt;NA&gt;</td>\n",
              "      <td>United Kingdom</td>\n",
              "    </tr>\n",
              "    <tr>\n",
              "      <th>2</th>\n",
              "      <td>536544</td>\n",
              "      <td>22100</td>\n",
              "      <td>SKULLS SQUARE TISSUE BOX</td>\n",
              "      <td>1</td>\n",
              "      <td>2010-12-01 14:32:00+00:00</td>\n",
              "      <td>2.5</td>\n",
              "      <td>&lt;NA&gt;</td>\n",
              "      <td>United Kingdom</td>\n",
              "    </tr>\n",
              "    <tr>\n",
              "      <th>3</th>\n",
              "      <td>536544</td>\n",
              "      <td>22114</td>\n",
              "      <td>HOT WATER BOTTLE TEA AND SYMPATHY</td>\n",
              "      <td>3</td>\n",
              "      <td>2010-12-01 14:32:00+00:00</td>\n",
              "      <td>8.5</td>\n",
              "      <td>&lt;NA&gt;</td>\n",
              "      <td>United Kingdom</td>\n",
              "    </tr>\n",
              "    <tr>\n",
              "      <th>4</th>\n",
              "      <td>536544</td>\n",
              "      <td>22196</td>\n",
              "      <td>SMALL HEART MEASURING SPOONS</td>\n",
              "      <td>2</td>\n",
              "      <td>2010-12-01 14:32:00+00:00</td>\n",
              "      <td>1.7</td>\n",
              "      <td>&lt;NA&gt;</td>\n",
              "      <td>United Kingdom</td>\n",
              "    </tr>\n",
              "  </tbody>\n",
              "</table>\n",
              "</div>\n",
              "    <div class=\"colab-df-buttons\">\n",
              "\n",
              "  <div class=\"colab-df-container\">\n",
              "    <button class=\"colab-df-convert\" onclick=\"convertToInteractive('df-8832f316-dea6-4cc2-b68c-f85009554993')\"\n",
              "            title=\"Convert this dataframe to an interactive table.\"\n",
              "            style=\"display:none;\">\n",
              "\n",
              "  <svg xmlns=\"http://www.w3.org/2000/svg\" height=\"24px\" viewBox=\"0 -960 960 960\">\n",
              "    <path d=\"M120-120v-720h720v720H120Zm60-500h600v-160H180v160Zm220 220h160v-160H400v160Zm0 220h160v-160H400v160ZM180-400h160v-160H180v160Zm440 0h160v-160H620v160ZM180-180h160v-160H180v160Zm440 0h160v-160H620v160Z\"/>\n",
              "  </svg>\n",
              "    </button>\n",
              "\n",
              "  <style>\n",
              "    .colab-df-container {\n",
              "      display:flex;\n",
              "      gap: 12px;\n",
              "    }\n",
              "\n",
              "    .colab-df-convert {\n",
              "      background-color: #E8F0FE;\n",
              "      border: none;\n",
              "      border-radius: 50%;\n",
              "      cursor: pointer;\n",
              "      display: none;\n",
              "      fill: #1967D2;\n",
              "      height: 32px;\n",
              "      padding: 0 0 0 0;\n",
              "      width: 32px;\n",
              "    }\n",
              "\n",
              "    .colab-df-convert:hover {\n",
              "      background-color: #E2EBFA;\n",
              "      box-shadow: 0px 1px 2px rgba(60, 64, 67, 0.3), 0px 1px 3px 1px rgba(60, 64, 67, 0.15);\n",
              "      fill: #174EA6;\n",
              "    }\n",
              "\n",
              "    .colab-df-buttons div {\n",
              "      margin-bottom: 4px;\n",
              "    }\n",
              "\n",
              "    [theme=dark] .colab-df-convert {\n",
              "      background-color: #3B4455;\n",
              "      fill: #D2E3FC;\n",
              "    }\n",
              "\n",
              "    [theme=dark] .colab-df-convert:hover {\n",
              "      background-color: #434B5C;\n",
              "      box-shadow: 0px 1px 3px 1px rgba(0, 0, 0, 0.15);\n",
              "      filter: drop-shadow(0px 1px 2px rgba(0, 0, 0, 0.3));\n",
              "      fill: #FFFFFF;\n",
              "    }\n",
              "  </style>\n",
              "\n",
              "    <script>\n",
              "      const buttonEl =\n",
              "        document.querySelector('#df-8832f316-dea6-4cc2-b68c-f85009554993 button.colab-df-convert');\n",
              "      buttonEl.style.display =\n",
              "        google.colab.kernel.accessAllowed ? 'block' : 'none';\n",
              "\n",
              "      async function convertToInteractive(key) {\n",
              "        const element = document.querySelector('#df-8832f316-dea6-4cc2-b68c-f85009554993');\n",
              "        const dataTable =\n",
              "          await google.colab.kernel.invokeFunction('convertToInteractive',\n",
              "                                                    [key], {});\n",
              "        if (!dataTable) return;\n",
              "\n",
              "        const docLinkHtml = 'Like what you see? Visit the ' +\n",
              "          '<a target=\"_blank\" href=https://colab.research.google.com/notebooks/data_table.ipynb>data table notebook</a>'\n",
              "          + ' to learn more about interactive tables.';\n",
              "        element.innerHTML = '';\n",
              "        dataTable['output_type'] = 'display_data';\n",
              "        await google.colab.output.renderOutput(dataTable, element);\n",
              "        const docLink = document.createElement('div');\n",
              "        docLink.innerHTML = docLinkHtml;\n",
              "        element.appendChild(docLink);\n",
              "      }\n",
              "    </script>\n",
              "  </div>\n",
              "\n",
              "\n",
              "<div id=\"df-d7318215-74e3-44c8-8448-c50cb42cb9d0\">\n",
              "  <button class=\"colab-df-quickchart\" onclick=\"quickchart('df-d7318215-74e3-44c8-8448-c50cb42cb9d0')\"\n",
              "            title=\"Suggest charts\"\n",
              "            style=\"display:none;\">\n",
              "\n",
              "<svg xmlns=\"http://www.w3.org/2000/svg\" height=\"24px\"viewBox=\"0 0 24 24\"\n",
              "     width=\"24px\">\n",
              "    <g>\n",
              "        <path d=\"M19 3H5c-1.1 0-2 .9-2 2v14c0 1.1.9 2 2 2h14c1.1 0 2-.9 2-2V5c0-1.1-.9-2-2-2zM9 17H7v-7h2v7zm4 0h-2V7h2v10zm4 0h-2v-4h2v4z\"/>\n",
              "    </g>\n",
              "</svg>\n",
              "  </button>\n",
              "\n",
              "<style>\n",
              "  .colab-df-quickchart {\n",
              "      --bg-color: #E8F0FE;\n",
              "      --fill-color: #1967D2;\n",
              "      --hover-bg-color: #E2EBFA;\n",
              "      --hover-fill-color: #174EA6;\n",
              "      --disabled-fill-color: #AAA;\n",
              "      --disabled-bg-color: #DDD;\n",
              "  }\n",
              "\n",
              "  [theme=dark] .colab-df-quickchart {\n",
              "      --bg-color: #3B4455;\n",
              "      --fill-color: #D2E3FC;\n",
              "      --hover-bg-color: #434B5C;\n",
              "      --hover-fill-color: #FFFFFF;\n",
              "      --disabled-bg-color: #3B4455;\n",
              "      --disabled-fill-color: #666;\n",
              "  }\n",
              "\n",
              "  .colab-df-quickchart {\n",
              "    background-color: var(--bg-color);\n",
              "    border: none;\n",
              "    border-radius: 50%;\n",
              "    cursor: pointer;\n",
              "    display: none;\n",
              "    fill: var(--fill-color);\n",
              "    height: 32px;\n",
              "    padding: 0;\n",
              "    width: 32px;\n",
              "  }\n",
              "\n",
              "  .colab-df-quickchart:hover {\n",
              "    background-color: var(--hover-bg-color);\n",
              "    box-shadow: 0 1px 2px rgba(60, 64, 67, 0.3), 0 1px 3px 1px rgba(60, 64, 67, 0.15);\n",
              "    fill: var(--button-hover-fill-color);\n",
              "  }\n",
              "\n",
              "  .colab-df-quickchart-complete:disabled,\n",
              "  .colab-df-quickchart-complete:disabled:hover {\n",
              "    background-color: var(--disabled-bg-color);\n",
              "    fill: var(--disabled-fill-color);\n",
              "    box-shadow: none;\n",
              "  }\n",
              "\n",
              "  .colab-df-spinner {\n",
              "    border: 2px solid var(--fill-color);\n",
              "    border-color: transparent;\n",
              "    border-bottom-color: var(--fill-color);\n",
              "    animation:\n",
              "      spin 1s steps(1) infinite;\n",
              "  }\n",
              "\n",
              "  @keyframes spin {\n",
              "    0% {\n",
              "      border-color: transparent;\n",
              "      border-bottom-color: var(--fill-color);\n",
              "      border-left-color: var(--fill-color);\n",
              "    }\n",
              "    20% {\n",
              "      border-color: transparent;\n",
              "      border-left-color: var(--fill-color);\n",
              "      border-top-color: var(--fill-color);\n",
              "    }\n",
              "    30% {\n",
              "      border-color: transparent;\n",
              "      border-left-color: var(--fill-color);\n",
              "      border-top-color: var(--fill-color);\n",
              "      border-right-color: var(--fill-color);\n",
              "    }\n",
              "    40% {\n",
              "      border-color: transparent;\n",
              "      border-right-color: var(--fill-color);\n",
              "      border-top-color: var(--fill-color);\n",
              "    }\n",
              "    60% {\n",
              "      border-color: transparent;\n",
              "      border-right-color: var(--fill-color);\n",
              "    }\n",
              "    80% {\n",
              "      border-color: transparent;\n",
              "      border-right-color: var(--fill-color);\n",
              "      border-bottom-color: var(--fill-color);\n",
              "    }\n",
              "    90% {\n",
              "      border-color: transparent;\n",
              "      border-bottom-color: var(--fill-color);\n",
              "    }\n",
              "  }\n",
              "</style>\n",
              "\n",
              "  <script>\n",
              "    async function quickchart(key) {\n",
              "      const quickchartButtonEl =\n",
              "        document.querySelector('#' + key + ' button');\n",
              "      quickchartButtonEl.disabled = true;  // To prevent multiple clicks.\n",
              "      quickchartButtonEl.classList.add('colab-df-spinner');\n",
              "      try {\n",
              "        const charts = await google.colab.kernel.invokeFunction(\n",
              "            'suggestCharts', [key], {});\n",
              "      } catch (error) {\n",
              "        console.error('Error during call to suggestCharts:', error);\n",
              "      }\n",
              "      quickchartButtonEl.classList.remove('colab-df-spinner');\n",
              "      quickchartButtonEl.classList.add('colab-df-quickchart-complete');\n",
              "    }\n",
              "    (() => {\n",
              "      let quickchartButtonEl =\n",
              "        document.querySelector('#df-d7318215-74e3-44c8-8448-c50cb42cb9d0 button');\n",
              "      quickchartButtonEl.style.display =\n",
              "        google.colab.kernel.accessAllowed ? 'block' : 'none';\n",
              "    })();\n",
              "  </script>\n",
              "</div>\n",
              "    </div>\n",
              "  </div>\n"
            ],
            "application/vnd.google.colaboratory.intrinsic+json": {
              "type": "dataframe",
              "variable_name": "rfm_df"
            }
          },
          "metadata": {},
          "execution_count": 199
        }
      ]
    },
    {
      "cell_type": "markdown",
      "source": [
        "There are missing vaues (NA) in the 'customer_id' column as was discovered earlier."
      ],
      "metadata": {
        "id": "IxiY17WQNLJm"
      }
    },
    {
      "cell_type": "markdown",
      "source": [
        "**Data Cleaning**\n",
        "\n",
        "\n",
        "---\n",
        "\n"
      ],
      "metadata": {
        "id": "zjSjQxDvaX0l"
      }
    },
    {
      "cell_type": "markdown",
      "source": [
        "I'm going to check the dataset for:\n",
        "* Duplicate records\n",
        "* Obviously wrong values\n",
        "* Missing values"
      ],
      "metadata": {
        "id": "20MuyEMhO4SW"
      }
    },
    {
      "cell_type": "markdown",
      "source": [
        "\n",
        "\n",
        "*   Duplicate records\n"
      ],
      "metadata": {
        "id": "oY0-OnuHUMuo"
      }
    },
    {
      "cell_type": "code",
      "source": [
        "print('Duplicate entries: {}'.format(rfm_df.duplicated().sum()))\n",
        "print('{}% rows are duplicate'.format(round((rfm_df.duplicated().sum()/rfm_df.shape[0])*100),2))\n",
        "\n",
        "rfm_df.drop_duplicates(inplace = True)"
      ],
      "metadata": {
        "colab": {
          "base_uri": "https://localhost:8080/"
        },
        "id": "0N_2nWBWPc-i",
        "outputId": "90c67686-ae57-4c86-ca06-369fd2fb922d"
      },
      "execution_count": 200,
      "outputs": [
        {
          "output_type": "stream",
          "name": "stdout",
          "text": [
            "Duplicate entries: 5268\n",
            "1% rows are duplicate\n"
          ]
        }
      ]
    },
    {
      "cell_type": "markdown",
      "source": [
        "There are 5268 duplicate entries (1% of the dataset). I have removed these duplicates from the dataset."
      ],
      "metadata": {
        "id": "Bb7BLWdeR8SN"
      }
    },
    {
      "cell_type": "markdown",
      "source": [
        "*   Obviously wrong values"
      ],
      "metadata": {
        "id": "HBC0-BcYUSVd"
      }
    },
    {
      "cell_type": "code",
      "source": [
        "print(\"Rows with zero or negative quantity:\", rfm_df[rfm_df['quantity'] <= 0 ]['quantity'].count(),\n",
        "      '|',\n",
        "      round(len(rfm_df[rfm_df['quantity']<=0])/len(rfm_df)*100, 2),\"%\")\n",
        "print(\"Rows with zero or negative unit price:\", rfm_df[rfm_df['unit_price'] <= 0 ]['unit_price'].count(),\n",
        "      '|',\n",
        "      round(len(rfm_df[rfm_df['unit_price']<=0])/len(rfm_df)*100, 2),\"%\")"
      ],
      "metadata": {
        "colab": {
          "base_uri": "https://localhost:8080/"
        },
        "id": "wVm6Y7ZSQRd-",
        "outputId": "4e197b07-ce10-4574-90d7-3d0bb1b6418c"
      },
      "execution_count": 201,
      "outputs": [
        {
          "output_type": "stream",
          "name": "stdout",
          "text": [
            "Rows with zero or negative quantity: 10587 | 1.97 %\n",
            "Rows with zero or negative unit price: 2512 | 0.47 %\n"
          ]
        }
      ]
    },
    {
      "cell_type": "markdown",
      "source": [
        "Records with zero or negative 'quantity' or 'unit_price' are likely refunds or promotional items. I'm going to remove them later because otherwise, they will distort the monetary metric and skew its distribution.\n"
      ],
      "metadata": {
        "id": "ZYWsSOZfT68G"
      }
    },
    {
      "cell_type": "markdown",
      "source": [
        "*   Missing values"
      ],
      "metadata": {
        "id": "9EKMY4cKUWuh"
      }
    },
    {
      "cell_type": "code",
      "source": [
        "missing_values = rfm_df.isnull().sum()\n",
        "print(missing_values)"
      ],
      "metadata": {
        "colab": {
          "base_uri": "https://localhost:8080/"
        },
        "id": "pqH4MW2FRDFQ",
        "outputId": "dc739622-78e5-4f2a-f578-800791436e38"
      },
      "execution_count": 202,
      "outputs": [
        {
          "output_type": "stream",
          "name": "stdout",
          "text": [
            "invoice_no           0\n",
            "stock_code           0\n",
            "description       1454\n",
            "quantity             0\n",
            "invoice_date         0\n",
            "unit_price           0\n",
            "customer_id     135037\n",
            "country              0\n",
            "dtype: int64\n"
          ]
        }
      ]
    },
    {
      "cell_type": "markdown",
      "source": [
        "As expected, the 'customer_id' and 'description' columns contain missing values. Invoices without a Customer Id were likely created without autorization. I'm going to remove them from my analysis because otherwise, they will skew the distribution of RFM metrics.\n",
        "\n",
        "I also don't need the product description in my analysis, so I plan to eliminate 'description' column later on.\n",
        "\n",
        "\n",
        "\n",
        "\n",
        "\n",
        "\n"
      ],
      "metadata": {
        "id": "NhNmuOzCS_el"
      }
    },
    {
      "cell_type": "code",
      "source": [
        "rfm_df = rfm_df[pd.notnull(rfm_df['customer_id'])]"
      ],
      "metadata": {
        "id": "W5_ScvjtRD_j"
      },
      "execution_count": 203,
      "outputs": []
    },
    {
      "cell_type": "code",
      "source": [
        "#missing_values = rfm_df.isnull().sum()\n",
        "#print(missing_values)"
      ],
      "metadata": {
        "id": "iDQOf1HySydZ"
      },
      "execution_count": 204,
      "outputs": []
    },
    {
      "cell_type": "code",
      "source": [
        "#rfm_df.head()"
      ],
      "metadata": {
        "id": "LNYxqB2KVBvH"
      },
      "execution_count": 205,
      "outputs": []
    },
    {
      "cell_type": "markdown",
      "source": [
        "There are no missing values in the data anymore.\n",
        "\n"
      ],
      "metadata": {
        "id": "W1_e_MwSS0n7"
      }
    },
    {
      "cell_type": "markdown",
      "source": [
        "I'm checking which data period is covered in this dataset:"
      ],
      "metadata": {
        "id": "bwvLEMewVs_M"
      }
    },
    {
      "cell_type": "code",
      "source": [
        "print('From: {} \\nTo:   {}'.format(rfm_df['invoice_date'].min(),\n",
        "                                   rfm_df['invoice_date'].max()))"
      ],
      "metadata": {
        "colab": {
          "base_uri": "https://localhost:8080/"
        },
        "id": "FKA3mwcGWaCv",
        "outputId": "cea84fc6-3e08-40d6-8054-60e985daa7e9"
      },
      "execution_count": 206,
      "outputs": [
        {
          "output_type": "stream",
          "name": "stdout",
          "text": [
            "From: 2010-12-01 08:26:00+00:00 \n",
            "To:   2011-12-09 12:50:00+00:00\n"
          ]
        }
      ]
    },
    {
      "cell_type": "markdown",
      "source": [
        "I'm going to define a reference date as a one day after the last purchase. The reference date will be used in calculating recency later."
      ],
      "metadata": {
        "id": "QhG3NeP5Wotu"
      }
    },
    {
      "cell_type": "code",
      "source": [
        "reference_date = rfm_df['invoice_date'].max() + pd.DateOffset(days=1)\n",
        "reference_date = reference_date.strftime('%Y-%m-%d')\n",
        "\n",
        "print(\"Reference date:\", reference_date)"
      ],
      "metadata": {
        "colab": {
          "base_uri": "https://localhost:8080/"
        },
        "id": "GKta4XiIWlki",
        "outputId": "a9c75910-1c35-4be9-db7f-157ad042860b"
      },
      "execution_count": 207,
      "outputs": [
        {
          "output_type": "stream",
          "name": "stdout",
          "text": [
            "Reference date: 2011-12-10\n"
          ]
        }
      ]
    },
    {
      "cell_type": "markdown",
      "source": [
        "The dataset consists of approximately one year of data. A one-year timeframe is commonly used in RFM analysis. I'll set the period to cover one year.\n",
        "\n",
        "Additionally, I will filter the data to exclude rows with zero or negative 'quantity' or zero or negative 'unit_price', as mentioned above.\n"
      ],
      "metadata": {
        "id": "-vlQw9QTaJNX"
      }
    },
    {
      "cell_type": "code",
      "source": [
        "start_date = '2010-12-01'\n",
        "end_date = '2011-12-02'\n",
        "\n",
        "rfm_df = rfm_df[(rfm_df['quantity'] > 0) & (rfm_df['unit_price'] > 0) &\n",
        "                (rfm_df['invoice_date'].between(start_date, end_date))]"
      ],
      "metadata": {
        "id": "UtVjPzdKaHY6"
      },
      "execution_count": 208,
      "outputs": []
    },
    {
      "cell_type": "code",
      "source": [
        "#rfm_df.info()"
      ],
      "metadata": {
        "id": "w3WwqZYybYQk"
      },
      "execution_count": 209,
      "outputs": []
    },
    {
      "cell_type": "markdown",
      "source": [
        "As a result, there are no zero or negative values for the 'quantity' and 'unit_price' columns anymore."
      ],
      "metadata": {
        "id": "Mfsgt2NAbs7i"
      }
    },
    {
      "cell_type": "code",
      "source": [
        "rfm_df.describe().T"
      ],
      "metadata": {
        "colab": {
          "base_uri": "https://localhost:8080/",
          "height": 143
        },
        "id": "jcNTFaIObcby",
        "outputId": "0596c6b4-f6b9-4334-8546-e2778a78edad"
      },
      "execution_count": 210,
      "outputs": [
        {
          "output_type": "execute_result",
          "data": {
            "text/plain": [
              "                count     mean     std      min      25%      50%      75%  \\\n",
              "quantity    377,786.0     12.9   128.2      1.0      2.0      6.0     12.0   \n",
              "unit_price  377,786.0      3.1    22.5      0.0      1.2      1.9      3.8   \n",
              "customer_id 377,786.0 15,287.6 1,713.0 12,346.0 13,956.0 15,152.0 16,790.0   \n",
              "\n",
              "                 max  \n",
              "quantity    74,215.0  \n",
              "unit_price   8,142.8  \n",
              "customer_id 18,287.0  "
            ],
            "text/html": [
              "\n",
              "  <div id=\"df-88b2e2b3-259c-4c25-98fa-caa72833463a\" class=\"colab-df-container\">\n",
              "    <div>\n",
              "<style scoped>\n",
              "    .dataframe tbody tr th:only-of-type {\n",
              "        vertical-align: middle;\n",
              "    }\n",
              "\n",
              "    .dataframe tbody tr th {\n",
              "        vertical-align: top;\n",
              "    }\n",
              "\n",
              "    .dataframe thead th {\n",
              "        text-align: right;\n",
              "    }\n",
              "</style>\n",
              "<table border=\"1\" class=\"dataframe\">\n",
              "  <thead>\n",
              "    <tr style=\"text-align: right;\">\n",
              "      <th></th>\n",
              "      <th>count</th>\n",
              "      <th>mean</th>\n",
              "      <th>std</th>\n",
              "      <th>min</th>\n",
              "      <th>25%</th>\n",
              "      <th>50%</th>\n",
              "      <th>75%</th>\n",
              "      <th>max</th>\n",
              "    </tr>\n",
              "  </thead>\n",
              "  <tbody>\n",
              "    <tr>\n",
              "      <th>quantity</th>\n",
              "      <td>377,786.0</td>\n",
              "      <td>12.9</td>\n",
              "      <td>128.2</td>\n",
              "      <td>1.0</td>\n",
              "      <td>2.0</td>\n",
              "      <td>6.0</td>\n",
              "      <td>12.0</td>\n",
              "      <td>74,215.0</td>\n",
              "    </tr>\n",
              "    <tr>\n",
              "      <th>unit_price</th>\n",
              "      <td>377,786.0</td>\n",
              "      <td>3.1</td>\n",
              "      <td>22.5</td>\n",
              "      <td>0.0</td>\n",
              "      <td>1.2</td>\n",
              "      <td>1.9</td>\n",
              "      <td>3.8</td>\n",
              "      <td>8,142.8</td>\n",
              "    </tr>\n",
              "    <tr>\n",
              "      <th>customer_id</th>\n",
              "      <td>377,786.0</td>\n",
              "      <td>15,287.6</td>\n",
              "      <td>1,713.0</td>\n",
              "      <td>12,346.0</td>\n",
              "      <td>13,956.0</td>\n",
              "      <td>15,152.0</td>\n",
              "      <td>16,790.0</td>\n",
              "      <td>18,287.0</td>\n",
              "    </tr>\n",
              "  </tbody>\n",
              "</table>\n",
              "</div>\n",
              "    <div class=\"colab-df-buttons\">\n",
              "\n",
              "  <div class=\"colab-df-container\">\n",
              "    <button class=\"colab-df-convert\" onclick=\"convertToInteractive('df-88b2e2b3-259c-4c25-98fa-caa72833463a')\"\n",
              "            title=\"Convert this dataframe to an interactive table.\"\n",
              "            style=\"display:none;\">\n",
              "\n",
              "  <svg xmlns=\"http://www.w3.org/2000/svg\" height=\"24px\" viewBox=\"0 -960 960 960\">\n",
              "    <path d=\"M120-120v-720h720v720H120Zm60-500h600v-160H180v160Zm220 220h160v-160H400v160Zm0 220h160v-160H400v160ZM180-400h160v-160H180v160Zm440 0h160v-160H620v160ZM180-180h160v-160H180v160Zm440 0h160v-160H620v160Z\"/>\n",
              "  </svg>\n",
              "    </button>\n",
              "\n",
              "  <style>\n",
              "    .colab-df-container {\n",
              "      display:flex;\n",
              "      gap: 12px;\n",
              "    }\n",
              "\n",
              "    .colab-df-convert {\n",
              "      background-color: #E8F0FE;\n",
              "      border: none;\n",
              "      border-radius: 50%;\n",
              "      cursor: pointer;\n",
              "      display: none;\n",
              "      fill: #1967D2;\n",
              "      height: 32px;\n",
              "      padding: 0 0 0 0;\n",
              "      width: 32px;\n",
              "    }\n",
              "\n",
              "    .colab-df-convert:hover {\n",
              "      background-color: #E2EBFA;\n",
              "      box-shadow: 0px 1px 2px rgba(60, 64, 67, 0.3), 0px 1px 3px 1px rgba(60, 64, 67, 0.15);\n",
              "      fill: #174EA6;\n",
              "    }\n",
              "\n",
              "    .colab-df-buttons div {\n",
              "      margin-bottom: 4px;\n",
              "    }\n",
              "\n",
              "    [theme=dark] .colab-df-convert {\n",
              "      background-color: #3B4455;\n",
              "      fill: #D2E3FC;\n",
              "    }\n",
              "\n",
              "    [theme=dark] .colab-df-convert:hover {\n",
              "      background-color: #434B5C;\n",
              "      box-shadow: 0px 1px 3px 1px rgba(0, 0, 0, 0.15);\n",
              "      filter: drop-shadow(0px 1px 2px rgba(0, 0, 0, 0.3));\n",
              "      fill: #FFFFFF;\n",
              "    }\n",
              "  </style>\n",
              "\n",
              "    <script>\n",
              "      const buttonEl =\n",
              "        document.querySelector('#df-88b2e2b3-259c-4c25-98fa-caa72833463a button.colab-df-convert');\n",
              "      buttonEl.style.display =\n",
              "        google.colab.kernel.accessAllowed ? 'block' : 'none';\n",
              "\n",
              "      async function convertToInteractive(key) {\n",
              "        const element = document.querySelector('#df-88b2e2b3-259c-4c25-98fa-caa72833463a');\n",
              "        const dataTable =\n",
              "          await google.colab.kernel.invokeFunction('convertToInteractive',\n",
              "                                                    [key], {});\n",
              "        if (!dataTable) return;\n",
              "\n",
              "        const docLinkHtml = 'Like what you see? Visit the ' +\n",
              "          '<a target=\"_blank\" href=https://colab.research.google.com/notebooks/data_table.ipynb>data table notebook</a>'\n",
              "          + ' to learn more about interactive tables.';\n",
              "        element.innerHTML = '';\n",
              "        dataTable['output_type'] = 'display_data';\n",
              "        await google.colab.output.renderOutput(dataTable, element);\n",
              "        const docLink = document.createElement('div');\n",
              "        docLink.innerHTML = docLinkHtml;\n",
              "        element.appendChild(docLink);\n",
              "      }\n",
              "    </script>\n",
              "  </div>\n",
              "\n",
              "\n",
              "<div id=\"df-23bacd7b-3436-4863-ae68-550fce5b2a1f\">\n",
              "  <button class=\"colab-df-quickchart\" onclick=\"quickchart('df-23bacd7b-3436-4863-ae68-550fce5b2a1f')\"\n",
              "            title=\"Suggest charts\"\n",
              "            style=\"display:none;\">\n",
              "\n",
              "<svg xmlns=\"http://www.w3.org/2000/svg\" height=\"24px\"viewBox=\"0 0 24 24\"\n",
              "     width=\"24px\">\n",
              "    <g>\n",
              "        <path d=\"M19 3H5c-1.1 0-2 .9-2 2v14c0 1.1.9 2 2 2h14c1.1 0 2-.9 2-2V5c0-1.1-.9-2-2-2zM9 17H7v-7h2v7zm4 0h-2V7h2v10zm4 0h-2v-4h2v4z\"/>\n",
              "    </g>\n",
              "</svg>\n",
              "  </button>\n",
              "\n",
              "<style>\n",
              "  .colab-df-quickchart {\n",
              "      --bg-color: #E8F0FE;\n",
              "      --fill-color: #1967D2;\n",
              "      --hover-bg-color: #E2EBFA;\n",
              "      --hover-fill-color: #174EA6;\n",
              "      --disabled-fill-color: #AAA;\n",
              "      --disabled-bg-color: #DDD;\n",
              "  }\n",
              "\n",
              "  [theme=dark] .colab-df-quickchart {\n",
              "      --bg-color: #3B4455;\n",
              "      --fill-color: #D2E3FC;\n",
              "      --hover-bg-color: #434B5C;\n",
              "      --hover-fill-color: #FFFFFF;\n",
              "      --disabled-bg-color: #3B4455;\n",
              "      --disabled-fill-color: #666;\n",
              "  }\n",
              "\n",
              "  .colab-df-quickchart {\n",
              "    background-color: var(--bg-color);\n",
              "    border: none;\n",
              "    border-radius: 50%;\n",
              "    cursor: pointer;\n",
              "    display: none;\n",
              "    fill: var(--fill-color);\n",
              "    height: 32px;\n",
              "    padding: 0;\n",
              "    width: 32px;\n",
              "  }\n",
              "\n",
              "  .colab-df-quickchart:hover {\n",
              "    background-color: var(--hover-bg-color);\n",
              "    box-shadow: 0 1px 2px rgba(60, 64, 67, 0.3), 0 1px 3px 1px rgba(60, 64, 67, 0.15);\n",
              "    fill: var(--button-hover-fill-color);\n",
              "  }\n",
              "\n",
              "  .colab-df-quickchart-complete:disabled,\n",
              "  .colab-df-quickchart-complete:disabled:hover {\n",
              "    background-color: var(--disabled-bg-color);\n",
              "    fill: var(--disabled-fill-color);\n",
              "    box-shadow: none;\n",
              "  }\n",
              "\n",
              "  .colab-df-spinner {\n",
              "    border: 2px solid var(--fill-color);\n",
              "    border-color: transparent;\n",
              "    border-bottom-color: var(--fill-color);\n",
              "    animation:\n",
              "      spin 1s steps(1) infinite;\n",
              "  }\n",
              "\n",
              "  @keyframes spin {\n",
              "    0% {\n",
              "      border-color: transparent;\n",
              "      border-bottom-color: var(--fill-color);\n",
              "      border-left-color: var(--fill-color);\n",
              "    }\n",
              "    20% {\n",
              "      border-color: transparent;\n",
              "      border-left-color: var(--fill-color);\n",
              "      border-top-color: var(--fill-color);\n",
              "    }\n",
              "    30% {\n",
              "      border-color: transparent;\n",
              "      border-left-color: var(--fill-color);\n",
              "      border-top-color: var(--fill-color);\n",
              "      border-right-color: var(--fill-color);\n",
              "    }\n",
              "    40% {\n",
              "      border-color: transparent;\n",
              "      border-right-color: var(--fill-color);\n",
              "      border-top-color: var(--fill-color);\n",
              "    }\n",
              "    60% {\n",
              "      border-color: transparent;\n",
              "      border-right-color: var(--fill-color);\n",
              "    }\n",
              "    80% {\n",
              "      border-color: transparent;\n",
              "      border-right-color: var(--fill-color);\n",
              "      border-bottom-color: var(--fill-color);\n",
              "    }\n",
              "    90% {\n",
              "      border-color: transparent;\n",
              "      border-bottom-color: var(--fill-color);\n",
              "    }\n",
              "  }\n",
              "</style>\n",
              "\n",
              "  <script>\n",
              "    async function quickchart(key) {\n",
              "      const quickchartButtonEl =\n",
              "        document.querySelector('#' + key + ' button');\n",
              "      quickchartButtonEl.disabled = true;  // To prevent multiple clicks.\n",
              "      quickchartButtonEl.classList.add('colab-df-spinner');\n",
              "      try {\n",
              "        const charts = await google.colab.kernel.invokeFunction(\n",
              "            'suggestCharts', [key], {});\n",
              "      } catch (error) {\n",
              "        console.error('Error during call to suggestCharts:', error);\n",
              "      }\n",
              "      quickchartButtonEl.classList.remove('colab-df-spinner');\n",
              "      quickchartButtonEl.classList.add('colab-df-quickchart-complete');\n",
              "    }\n",
              "    (() => {\n",
              "      let quickchartButtonEl =\n",
              "        document.querySelector('#df-23bacd7b-3436-4863-ae68-550fce5b2a1f button');\n",
              "      quickchartButtonEl.style.display =\n",
              "        google.colab.kernel.accessAllowed ? 'block' : 'none';\n",
              "    })();\n",
              "  </script>\n",
              "</div>\n",
              "    </div>\n",
              "  </div>\n"
            ],
            "application/vnd.google.colaboratory.intrinsic+json": {
              "type": "dataframe",
              "summary": "{\n  \"name\": \"rfm_df\",\n  \"rows\": 3,\n  \"fields\": [\n    {\n      \"column\": \"count\",\n      \"properties\": {\n        \"dtype\": \"date\",\n        \"min\": 377786.0,\n        \"max\": 377786.0,\n        \"num_unique_values\": 1,\n        \"samples\": [\n          377786.0\n        ],\n        \"semantic_type\": \"\",\n        \"description\": \"\"\n      }\n    },\n    {\n      \"column\": \"mean\",\n      \"properties\": {\n        \"dtype\": \"date\",\n        \"min\": 3.142173198583325,\n        \"max\": 15287.568639388437,\n        \"num_unique_values\": 3,\n        \"samples\": [\n          12.943928573319287\n        ],\n        \"semantic_type\": \"\",\n        \"description\": \"\"\n      }\n    },\n    {\n      \"column\": \"std\",\n      \"properties\": {\n        \"dtype\": \"date\",\n        \"min\": 22.513258506223533,\n        \"max\": 1712.9744570066553,\n        \"num_unique_values\": 3,\n        \"samples\": [\n          128.1994070836434\n        ],\n        \"semantic_type\": \"\",\n        \"description\": \"\"\n      }\n    },\n    {\n      \"column\": \"min\",\n      \"properties\": {\n        \"dtype\": \"date\",\n        \"min\": 0.001,\n        \"max\": 12346.0,\n        \"num_unique_values\": 3,\n        \"samples\": [\n          1.0\n        ],\n        \"semantic_type\": \"\",\n        \"description\": \"\"\n      }\n    },\n    {\n      \"column\": \"25%\",\n      \"properties\": {\n        \"dtype\": \"date\",\n        \"min\": 1.25,\n        \"max\": 13956.0,\n        \"num_unique_values\": 3,\n        \"samples\": [\n          2.0\n        ],\n        \"semantic_type\": \"\",\n        \"description\": \"\"\n      }\n    },\n    {\n      \"column\": \"50%\",\n      \"properties\": {\n        \"dtype\": \"date\",\n        \"min\": 1.95,\n        \"max\": 15152.0,\n        \"num_unique_values\": 3,\n        \"samples\": [\n          6.0\n        ],\n        \"semantic_type\": \"\",\n        \"description\": \"\"\n      }\n    },\n    {\n      \"column\": \"75%\",\n      \"properties\": {\n        \"dtype\": \"date\",\n        \"min\": 3.75,\n        \"max\": 16790.0,\n        \"num_unique_values\": 3,\n        \"samples\": [\n          12.0\n        ],\n        \"semantic_type\": \"\",\n        \"description\": \"\"\n      }\n    },\n    {\n      \"column\": \"max\",\n      \"properties\": {\n        \"dtype\": \"date\",\n        \"min\": 8142.75,\n        \"max\": 74215.0,\n        \"num_unique_values\": 3,\n        \"samples\": [\n          74215.0\n        ],\n        \"semantic_type\": \"\",\n        \"description\": \"\"\n      }\n    }\n  ]\n}"
            }
          },
          "metadata": {},
          "execution_count": 210
        }
      ]
    },
    {
      "cell_type": "code",
      "source": [
        "#rfm_df['unit_price'].min()"
      ],
      "metadata": {
        "id": "RSVwizIIDYXZ"
      },
      "execution_count": 211,
      "outputs": []
    },
    {
      "cell_type": "markdown",
      "source": [
        "I'm going to check the number of unique customers and the combinations of customer-country."
      ],
      "metadata": {
        "id": "-Hl5y2iicRwC"
      }
    },
    {
      "cell_type": "code",
      "source": [
        "distinct_customers = rfm_df['customer_id'].nunique()\n",
        "print(\"Distinct CustomerID:\", distinct_customers)\n",
        "\n",
        "summary = f\"Distinct CustomerID-Country: {rfm_df[['customer_id', 'country']].drop_duplicates().shape[0]}\"\n",
        "print(summary)"
      ],
      "metadata": {
        "colab": {
          "base_uri": "https://localhost:8080/"
        },
        "id": "h3OtQRKlbjWg",
        "outputId": "25058686-5f9d-4dff-a183-b9455ee9492b"
      },
      "execution_count": 212,
      "outputs": [
        {
          "output_type": "stream",
          "name": "stdout",
          "text": [
            "Distinct CustomerID: 4300\n",
            "Distinct CustomerID-Country: 4308\n"
          ]
        }
      ]
    },
    {
      "cell_type": "markdown",
      "source": [
        "These are the columns I'm going to use in further analysis."
      ],
      "metadata": {
        "id": "XptmlYDcXTVm"
      }
    },
    {
      "cell_type": "code",
      "source": [
        "rfm_df = rfm_df[['customer_id','country','invoice_date','invoice_no','quantity','unit_price']]"
      ],
      "metadata": {
        "id": "JDTcdOlecq2Z"
      },
      "execution_count": 213,
      "outputs": []
    },
    {
      "cell_type": "markdown",
      "source": [
        "I'm adding the new column 'total_sales' to calculate the amount of sales by multiplying quantity and unit price."
      ],
      "metadata": {
        "id": "h7l0WfPkXd-4"
      }
    },
    {
      "cell_type": "code",
      "source": [
        "rfm_df = rfm_df.copy()\n",
        "rfm_df.loc[:, 'total_sales'] = rfm_df['quantity'] * rfm_df['unit_price']\n",
        "#print(rfm_df.columns)"
      ],
      "metadata": {
        "id": "LtQ8XNL7cwQ-"
      },
      "execution_count": 214,
      "outputs": []
    },
    {
      "cell_type": "markdown",
      "source": [
        "I want to check which country has a higher customer base, number of orders, quantity and sales amount."
      ],
      "metadata": {
        "id": "QymTRGuKdOFv"
      }
    },
    {
      "cell_type": "code",
      "source": [
        "top_10_countries_customers = rfm_df.groupby('country')['customer_id'].nunique().nlargest(10)\n",
        "top_10_countries_invoices = rfm_df.groupby('country')['invoice_no'].nunique().nlargest(10)\n",
        "top_10_countries_quantity = rfm_df.groupby('country')['quantity'].sum().nlargest(10)\n",
        "top_10_countries_sales = rfm_df.groupby('country')['total_sales'].sum().nlargest(10)\n",
        "\n",
        "fig, axes = plt.subplots(2, 2, figsize=(10, 7))\n",
        "\n",
        "plots = [\n",
        "    ('Top 10 countries by number of customers', top_10_countries_customers),\n",
        "    ('Top 10 countries by number of invoices', top_10_countries_invoices),\n",
        "    ('Top 10 countries by quantity sold', top_10_countries_quantity),\n",
        "    ('Top 10 countries by sales', top_10_countries_sales)\n",
        "]\n",
        "\n",
        "for i, (title, data) in enumerate(plots):\n",
        "    ax = axes[i // 2, i % 2]  # Getting current subplot ('i // 2 calculates the row index, 'i % 2' - the column index)\n",
        "    data.sort_values(ascending=True).plot(kind='barh', ax=ax)\n",
        "    ax.set_title(title)\n",
        "    ax.set_xlabel('Customers' if 'customers' in title else ('Invoices' if 'invoices' in title else ('Quantity Sold' if 'quantity' in title else 'Sales')))\n",
        "    ax.set_ylabel('Country')\n",
        "\n",
        "plt.tight_layout()\n",
        "plt.show()"
      ],
      "metadata": {
        "colab": {
          "base_uri": "https://localhost:8080/",
          "height": 707
        },
        "id": "N3muzyM2e-xY",
        "outputId": "a23f8f8f-c215-4dc0-9111-fd5edd0f0adb"
      },
      "execution_count": 215,
      "outputs": [
        {
          "output_type": "display_data",
          "data": {
            "text/plain": [
              "<Figure size 1000x700 with 4 Axes>"
            ],
            "image/png": "[encoded data removed]"
          },
          "metadata": {}
        }
      ]
    },
    {
      "cell_type": "markdown",
      "source": [
        "What's observed here:\n",
        "\n",
        "The dominant market is the United Kingdom with the highest number of customers, orders, quantity sold and sales amount."
      ],
      "metadata": {
        "id": "XXxr4RvaZYGs"
      }
    },
    {
      "cell_type": "markdown",
      "source": [
        "**Recency, Frequency, Monetary**\n",
        "\n",
        "\n",
        "---\n",
        "\n"
      ],
      "metadata": {
        "id": "OCC3_dd5f7d0"
      }
    },
    {
      "cell_type": "markdown",
      "source": [
        "\n",
        "RFM model combines three different customer attributes to rank customers:\n",
        "\n",
        "* **Recency** (R): Number of days since the last purchase.\n",
        "* **Frequency** (F): Number of purchases during the analyzed period (usually one year).\n",
        "* **Monetary** (M): Total amount of purchases made during the studied period.\n",
        "\n",
        "\n",
        "To get the RFM score of a customer, I first need to calculate the R, F and M scores on a scale from 1 (worst) to 4 (best).\n",
        "\n",
        "The steps are:\n",
        "\n",
        "1. Calculate Recency\n",
        "2. Calculate Freqency\n",
        "3. Calculate Monetary\n",
        "4. Find quintiles for each of these metrics\n",
        "5. Assign a score to each metric depending on which quintile it falls into\n",
        "6. Combine R, F and M scores to get the RFM score\n",
        "7. Map RFM scores to segments\n",
        "\n",
        "\n",
        "\n",
        "\n",
        "\n",
        "\n"
      ],
      "metadata": {
        "id": "Y1SbHICff5kP"
      }
    },
    {
      "cell_type": "markdown",
      "source": [
        "First, I need to group the data by 'customer_id' and 'country'.\n",
        "\n",
        "- For **recency**, I’ll calculate the difference between the reference date and the maximum (most recent) invoice date for each customer. This will give me the number of days since the last purchase, where smaller values indicate that a customer has made a purchase more recently.\n",
        "- Since **frequency** measures how often a customer makes purchases, I’ll calculate it as the total number of unique invoices made by each customer.\n",
        "- **Monetary value** calculates how much money a customer spends, so I’ll find the total monetary value for each customer."
      ],
      "metadata": {
        "id": "1Ew9NmqtDV_t"
      }
    },
    {
      "cell_type": "code",
      "source": [
        "rfm = rfm_df.groupby(['customer_id', 'country']).agg({'invoice_date': lambda date: (pd.Timestamp(reference_date) - date.max().tz_localize(None)).days, # Recency: days since the last order\n",
        "                                                      'invoice_no': 'nunique', # Frequency: total number of orders\n",
        "                                                      'total_sales': 'sum' # Monetary: total sales\n",
        "                                                     })\n",
        "# Renaming the columns for readability\n",
        "rfm.columns =['recency', 'frequency', 'monetary']\n",
        "#rfm.head()"
      ],
      "metadata": {
        "id": "33f-Kqr3iQxH"
      },
      "execution_count": 216,
      "outputs": []
    },
    {
      "cell_type": "code",
      "source": [
        "#rfm.describe().T"
      ],
      "metadata": {
        "id": "Ispc-g0HcvE-"
      },
      "execution_count": 217,
      "outputs": []
    },
    {
      "cell_type": "markdown",
      "source": [
        "Let's examine the distributions of recency, frequency and monetary values.\n",
        "I'll plot the data."
      ],
      "metadata": {
        "id": "FAzM8ItVdxkd"
      }
    },
    {
      "cell_type": "code",
      "source": [
        "fig, axes = plt.subplots(1, 3, figsize=(15, 5))\n",
        "\n",
        "sns.histplot(data=rfm, x='recency', bins=30, ax=axes[0])\n",
        "axes[0].set_title('Recency Distribution')\n",
        "\n",
        "sns.histplot(data=rfm, x='frequency', bins=30, ax=axes[1])\n",
        "axes[1].set_title('Frequency Distribution')\n",
        "\n",
        "sns.histplot(data=rfm, x='monetary', bins=30, ax=axes[2])\n",
        "axes[2].set_title('Monetary Distribution')\n",
        "\n",
        "plt.tight_layout()\n",
        "plt.show()"
      ],
      "metadata": {
        "colab": {
          "base_uri": "https://localhost:8080/",
          "height": 450
        },
        "id": "Q_pTEQmnjY-m",
        "outputId": "ea97db78-555b-4d83-c0ad-ad1102a82465"
      },
      "execution_count": 218,
      "outputs": [
        {
          "output_type": "display_data",
          "data": {
            "text/plain": [
              "<Figure size 1500x500 with 3 Axes>"
            ],
            "image/png": "[encoded data removed]"
          },
          "metadata": {}
        }
      ]
    },
    {
      "cell_type": "markdown",
      "source": [
        "What's observed here:\n",
        "\n",
        "* The recency distribution is right-skewed, indicating that the majority of customers made a resent purchase. However, there's a long tail representing customers who made purchases a long time ago.\n",
        "\n",
        "* Both frequency and monetary distributions are right-skewed as well. They display one distinct prominent peak, making them unimodal distributions.\n",
        "  * The frequency chart reveals a large group of customers with low frequency.\n",
        "  * The monetary distribution follows a similar pattern. While some customers spent only a small amount, there's a smaller group that spent more.\n",
        "\n",
        "\n",
        "\n",
        "\n",
        "\n",
        "\n",
        "\n"
      ],
      "metadata": {
        "id": "h2loRGm_m-hE"
      }
    },
    {
      "cell_type": "markdown",
      "source": [
        "**Mapping RFM values onto a 1-4 scale**\n",
        "\n",
        "\n",
        "---\n",
        "\n"
      ],
      "metadata": {
        "id": "db1R7zjUjQ1i"
      }
    },
    {
      "cell_type": "markdown",
      "source": [
        "Now, I'm going to map the 'recency', 'frequency' and 'monetary' columns by assigning values to four different bins and mapping each bin to a value. To determine the bin edges, I will create buckets based on the quartile values of the 'recency', 'frequency' and 'monetary' columns.\n",
        "\n",
        "Customers with the lowest recency, highest frequency and monetary will be considered as **top customers**."
      ],
      "metadata": {
        "id": "cJ2li2Uxj541"
      }
    },
    {
      "cell_type": "code",
      "source": [
        "rfm['r_score'] = pd.cut(rfm['recency'],\n",
        "                        bins=[-1,\n",
        "                              np.percentile(rfm['recency'], 25),\n",
        "                              np.percentile(rfm['recency'], 50),\n",
        "                              np.percentile(rfm['recency'], 75),\n",
        "                              rfm['recency'].max()],\n",
        "                        labels=[4, 3, 2, 1]).astype(\"int\") # Reversing labels for recency\n",
        "rfm['r_score'].value_counts().sort_index()"
      ],
      "metadata": {
        "colab": {
          "base_uri": "https://localhost:8080/"
        },
        "id": "ix_hG7eQC29E",
        "outputId": "388c8272-36e1-4905-d106-37b39f245e3b"
      },
      "execution_count": 219,
      "outputs": [
        {
          "output_type": "execute_result",
          "data": {
            "text/plain": [
              "r_score\n",
              "1    1076\n",
              "2    1064\n",
              "3    1081\n",
              "4    1087\n",
              "Name: count, dtype: int64"
            ]
          },
          "metadata": {},
          "execution_count": 219
        }
      ]
    },
    {
      "cell_type": "code",
      "source": [
        "rfm['f_score'] = pd.cut(rfm['frequency'],\n",
        "                          bins=[-1,\n",
        "                                np.percentile(rfm['frequency'], 25),\n",
        "                                np.percentile(rfm['frequency'], 50),\n",
        "                                np.percentile(rfm['frequency'], 75),\n",
        "                                rfm['frequency'].max()],\n",
        "                          labels=[1, 2, 3, 4]).astype(\"int\")\n",
        "rfm['f_score'].value_counts().sort_index()"
      ],
      "metadata": {
        "colab": {
          "base_uri": "https://localhost:8080/"
        },
        "id": "iMphQ6YVIgQ7",
        "outputId": "598096ee-cecb-4093-c162-116b11586c2c"
      },
      "execution_count": 220,
      "outputs": [
        {
          "output_type": "execute_result",
          "data": {
            "text/plain": [
              "f_score\n",
              "1    1534\n",
              "2     814\n",
              "3     898\n",
              "4    1062\n",
              "Name: count, dtype: int64"
            ]
          },
          "metadata": {},
          "execution_count": 220
        }
      ]
    },
    {
      "cell_type": "code",
      "source": [
        "rfm['m_score'] = pd.cut(rfm['monetary'],\n",
        "                         bins=[-1,\n",
        "                               np.percentile(rfm['monetary'], 25),\n",
        "                               np.percentile(rfm['monetary'], 50),\n",
        "                               np.percentile(rfm['monetary'], 75),\n",
        "                               rfm['monetary'].max()],\n",
        "                         labels=[1, 2, 3, 4]).astype(\"int\")\n",
        "rfm['m_score'].value_counts().sort_index()"
      ],
      "metadata": {
        "colab": {
          "base_uri": "https://localhost:8080/"
        },
        "id": "7oCaqC2PIu30",
        "outputId": "63fbcdf3-ca95-4881-c1f1-97569147162b"
      },
      "execution_count": 221,
      "outputs": [
        {
          "output_type": "execute_result",
          "data": {
            "text/plain": [
              "m_score\n",
              "1    1077\n",
              "2    1077\n",
              "3    1077\n",
              "4    1077\n",
              "Name: count, dtype: int64"
            ]
          },
          "metadata": {},
          "execution_count": 221
        }
      ]
    },
    {
      "cell_type": "markdown",
      "source": [
        "Now, I want to plot the distribution of customers based on their r_score, f_score and m_score."
      ],
      "metadata": {
        "id": "kNT87ldHfpOG"
      }
    },
    {
      "cell_type": "code",
      "source": [
        "fig, axes = plt.subplots(1, 3, figsize=(8, 3))\n",
        "\n",
        "for i, p in enumerate(['r_score', 'f_score', 'm_score']):\n",
        "    parameters = {'r_score':'Recency', 'f_score':'Frequency', 'm_score':'Monetary'}\n",
        "    y = rfm[p].value_counts().sort_index()\n",
        "    x = y.index\n",
        "    ax = axes[i]\n",
        "    bars = ax.bar(x, y, color='silver')\n",
        "    ax.set_frame_on(False)\n",
        "    ax.tick_params(left=False, labelleft=False, bottom=False)\n",
        "    ax.set_title('{}'.format(parameters[p]),\n",
        "                fontsize=12)\n",
        "    for bar in bars:\n",
        "        value = bar.get_height()\n",
        "        if value == y.max():\n",
        "            bar.set_color('#4682B4')\n",
        "        # Adding text to each bar (its value and percentage of the total)\n",
        "        ax.text(bar.get_x() + bar.get_width() / 2,\n",
        "                value - 5,\n",
        "                '{}\\n({}%)'.format(int(value), int(value * 100 / y.sum())),\n",
        "               ha='center',\n",
        "               va='top',\n",
        "               color='w')\n",
        "\n",
        "plt.tight_layout()\n",
        "plt.show()"
      ],
      "metadata": {
        "colab": {
          "base_uri": "https://localhost:8080/",
          "height": 307
        },
        "id": "_Bzd7Z0aw5bB",
        "outputId": "4e2b01e5-0008-47c9-82b4-82d520e8205a"
      },
      "execution_count": 222,
      "outputs": [
        {
          "output_type": "display_data",
          "data": {
            "text/plain": [
              "<Figure size 800x300 with 3 Axes>"
            ],
            "image/png": "[encoded data removed]"
          },
          "metadata": {}
        }
      ]
    },
    {
      "cell_type": "markdown",
      "source": [
        "What's observed here:\n",
        "* Recency and Monetary appear to be evenly distributed.\n",
        "* More than half of the customers don't purchase very often (53% of customers have a frequency of 1 or 2)."
      ],
      "metadata": {
        "id": "G_q4CbxdCXrN"
      }
    },
    {
      "cell_type": "markdown",
      "source": [
        "**RFM Customer Segmentation**\n",
        "\n",
        "\n",
        "---\n",
        "\n"
      ],
      "metadata": {
        "id": "xe9WyOTmrGFp"
      }
    },
    {
      "cell_type": "markdown",
      "source": [
        "**Segments**\n",
        "\n",
        "* **Champions** - bought recently, buy often and spend the most\n",
        "* **Loyal Customers** - spend good money and often, responsive to promotions\n",
        "* **Potential Loyalist** - recent customers, but spent a good amount and bought more than once\n",
        "* **Recent Customers** - bought most recently, but not often\n",
        "* **Promising** - recent shoppers, but haven’t spent much\n",
        "* **Needing Attention** - above average recency, frequency and monetary values; may not have bought very recently though\n",
        "* **About To Sleep** - below average recency, frequency and monetary values; will lose them if not reactivated\n",
        "* **At Risk** - spent big money and purchased often, but long time ago; need to bring them back\n",
        "* **Can't Loose Them** - made biggest purchases, and often, but haven’t returned for a long time\n",
        "* **Hibernating** - last purchase was long back, low spenders and low number of orders\n",
        "* **Lost** - lowest recency, frequency and monetary scores\n",
        "\n"
      ],
      "metadata": {
        "id": "9zYwU9QOwNcV"
      }
    },
    {
      "cell_type": "markdown",
      "source": [
        "I'm going to create a new column 'rfm_score', where I will concatenate the values from the 'r_score', 'f_score' and 'm_score' columns.\n",
        "\n",
        "Then, I will assign customers to the segments based on their RFM scores."
      ],
      "metadata": {
        "id": "Ti6J6yNQf08W"
      }
    },
    {
      "cell_type": "code",
      "source": [
        "rfm['rfm_score'] = rfm[['r_score', 'f_score', 'm_score']].astype(str).sum(axis=1)"
      ],
      "metadata": {
        "id": "vWwWv8KVf19X"
      },
      "execution_count": 223,
      "outputs": []
    },
    {
      "cell_type": "code",
      "source": [
        "rfm['rfm_segment'] = 'Uncategorized'\n",
        "\n",
        "rfm.loc[rfm['rfm_score'].isin(['444', '344']), 'rfm_segment'] = 'Champions'\n",
        "rfm.loc[rfm['rfm_score'].isin(['434', '334', '233']), 'rfm_segment'] = 'Loyal Customers'\n",
        "rfm.loc[rfm['rfm_score'].isin(['443', '433', '424', '423', '343', '333', '324', '323']), 'rfm_segment'] = 'Potential Loyalists'\n",
        "rfm.loc[rfm['rfm_score'].isin(['422', '421', '414', '413', '412', '411', '314', '313']), 'rfm_segment'] = 'Recent Customers'\n",
        "rfm.loc[rfm['rfm_score'].isin(['442', '441', '432', '431', '342', '341', '332', '331', '322', '321', '312', '311']), 'rfm_segment'] = 'Promising Customers'\n",
        "rfm.loc[rfm['rfm_score'] == '244', 'rfm_segment'] = 'Needing Attention'\n",
        "rfm.loc[rfm['rfm_score'].isin(['231', '133', '132', '131', '123', '113', '232', '224', '223', '214', '242', '241', '142', '141', '124', '114']), 'rfm_segment'] = 'About to Sleep'\n",
        "rfm.loc[rfm['rfm_score'].isin(['243', '234']), 'rfm_segment'] = 'At Risk'\n",
        "rfm.loc[rfm['rfm_score'].isin(['144', '143', '134']), 'rfm_segment'] = \"Can't Lose Them\"\n",
        "rfm.loc[rfm['rfm_score'].isin(['222', '221', '213', '212', '211', '122', '121', '112']), 'rfm_segment'] = 'Hibernating'\n",
        "rfm.loc[rfm['rfm_score'] == '111', 'rfm_segment'] = 'Lost'"
      ],
      "metadata": {
        "id": "k3GzArGxqRzw"
      },
      "execution_count": 224,
      "outputs": []
    },
    {
      "cell_type": "code",
      "source": [
        "rfm.head()"
      ],
      "metadata": {
        "colab": {
          "base_uri": "https://localhost:8080/",
          "height": 238
        },
        "id": "Xfs862NsuVVG",
        "outputId": "8afba8eb-4d5f-4965-d4b5-e6b1db69867e"
      },
      "execution_count": 225,
      "outputs": [
        {
          "output_type": "execute_result",
          "data": {
            "text/plain": [
              "                            recency  frequency  monetary  r_score  f_score  \\\n",
              "customer_id country                                                          \n",
              "12346       United Kingdom      325          1  77,183.6        1        1   \n",
              "12347       Iceland              39          6   4,085.2        3        4   \n",
              "12348       Finland              75          4   1,797.2        2        3   \n",
              "12349       Italy                18          1   1,757.5        4        1   \n",
              "12350       Norway              310          1     334.4        1        1   \n",
              "\n",
              "                            m_score rfm_score       rfm_segment  \n",
              "customer_id country                                              \n",
              "12346       United Kingdom        4       114    About to Sleep  \n",
              "12347       Iceland               4       344         Champions  \n",
              "12348       Finland               4       234           At Risk  \n",
              "12349       Italy                 4       414  Recent Customers  \n",
              "12350       Norway                2       112       Hibernating  "
            ],
            "text/html": [
              "\n",
              "  <div id=\"df-89ae7e46-a09e-45f8-ba75-16b0657e36cc\" class=\"colab-df-container\">\n",
              "    <div>\n",
              "<style scoped>\n",
              "    .dataframe tbody tr th:only-of-type {\n",
              "        vertical-align: middle;\n",
              "    }\n",
              "\n",
              "    .dataframe tbody tr th {\n",
              "        vertical-align: top;\n",
              "    }\n",
              "\n",
              "    .dataframe thead th {\n",
              "        text-align: right;\n",
              "    }\n",
              "</style>\n",
              "<table border=\"1\" class=\"dataframe\">\n",
              "  <thead>\n",
              "    <tr style=\"text-align: right;\">\n",
              "      <th></th>\n",
              "      <th></th>\n",
              "      <th>recency</th>\n",
              "      <th>frequency</th>\n",
              "      <th>monetary</th>\n",
              "      <th>r_score</th>\n",
              "      <th>f_score</th>\n",
              "      <th>m_score</th>\n",
              "      <th>rfm_score</th>\n",
              "      <th>rfm_segment</th>\n",
              "    </tr>\n",
              "    <tr>\n",
              "      <th>customer_id</th>\n",
              "      <th>country</th>\n",
              "      <th></th>\n",
              "      <th></th>\n",
              "      <th></th>\n",
              "      <th></th>\n",
              "      <th></th>\n",
              "      <th></th>\n",
              "      <th></th>\n",
              "      <th></th>\n",
              "    </tr>\n",
              "  </thead>\n",
              "  <tbody>\n",
              "    <tr>\n",
              "      <th>12346</th>\n",
              "      <th>United Kingdom</th>\n",
              "      <td>325</td>\n",
              "      <td>1</td>\n",
              "      <td>77,183.6</td>\n",
              "      <td>1</td>\n",
              "      <td>1</td>\n",
              "      <td>4</td>\n",
              "      <td>114</td>\n",
              "      <td>About to Sleep</td>\n",
              "    </tr>\n",
              "    <tr>\n",
              "      <th>12347</th>\n",
              "      <th>Iceland</th>\n",
              "      <td>39</td>\n",
              "      <td>6</td>\n",
              "      <td>4,085.2</td>\n",
              "      <td>3</td>\n",
              "      <td>4</td>\n",
              "      <td>4</td>\n",
              "      <td>344</td>\n",
              "      <td>Champions</td>\n",
              "    </tr>\n",
              "    <tr>\n",
              "      <th>12348</th>\n",
              "      <th>Finland</th>\n",
              "      <td>75</td>\n",
              "      <td>4</td>\n",
              "      <td>1,797.2</td>\n",
              "      <td>2</td>\n",
              "      <td>3</td>\n",
              "      <td>4</td>\n",
              "      <td>234</td>\n",
              "      <td>At Risk</td>\n",
              "    </tr>\n",
              "    <tr>\n",
              "      <th>12349</th>\n",
              "      <th>Italy</th>\n",
              "      <td>18</td>\n",
              "      <td>1</td>\n",
              "      <td>1,757.5</td>\n",
              "      <td>4</td>\n",
              "      <td>1</td>\n",
              "      <td>4</td>\n",
              "      <td>414</td>\n",
              "      <td>Recent Customers</td>\n",
              "    </tr>\n",
              "    <tr>\n",
              "      <th>12350</th>\n",
              "      <th>Norway</th>\n",
              "      <td>310</td>\n",
              "      <td>1</td>\n",
              "      <td>334.4</td>\n",
              "      <td>1</td>\n",
              "      <td>1</td>\n",
              "      <td>2</td>\n",
              "      <td>112</td>\n",
              "      <td>Hibernating</td>\n",
              "    </tr>\n",
              "  </tbody>\n",
              "</table>\n",
              "</div>\n",
              "    <div class=\"colab-df-buttons\">\n",
              "\n",
              "  <div class=\"colab-df-container\">\n",
              "    <button class=\"colab-df-convert\" onclick=\"convertToInteractive('df-89ae7e46-a09e-45f8-ba75-16b0657e36cc')\"\n",
              "            title=\"Convert this dataframe to an interactive table.\"\n",
              "            style=\"display:none;\">\n",
              "\n",
              "  <svg xmlns=\"http://www.w3.org/2000/svg\" height=\"24px\" viewBox=\"0 -960 960 960\">\n",
              "    <path d=\"M120-120v-720h720v720H120Zm60-500h600v-160H180v160Zm220 220h160v-160H400v160Zm0 220h160v-160H400v160ZM180-400h160v-160H180v160Zm440 0h160v-160H620v160ZM180-180h160v-160H180v160Zm440 0h160v-160H620v160Z\"/>\n",
              "  </svg>\n",
              "    </button>\n",
              "\n",
              "  <style>\n",
              "    .colab-df-container {\n",
              "      display:flex;\n",
              "      gap: 12px;\n",
              "    }\n",
              "\n",
              "    .colab-df-convert {\n",
              "      background-color: #E8F0FE;\n",
              "      border: none;\n",
              "      border-radius: 50%;\n",
              "      cursor: pointer;\n",
              "      display: none;\n",
              "      fill: #1967D2;\n",
              "      height: 32px;\n",
              "      padding: 0 0 0 0;\n",
              "      width: 32px;\n",
              "    }\n",
              "\n",
              "    .colab-df-convert:hover {\n",
              "      background-color: #E2EBFA;\n",
              "      box-shadow: 0px 1px 2px rgba(60, 64, 67, 0.3), 0px 1px 3px 1px rgba(60, 64, 67, 0.15);\n",
              "      fill: #174EA6;\n",
              "    }\n",
              "\n",
              "    .colab-df-buttons div {\n",
              "      margin-bottom: 4px;\n",
              "    }\n",
              "\n",
              "    [theme=dark] .colab-df-convert {\n",
              "      background-color: #3B4455;\n",
              "      fill: #D2E3FC;\n",
              "    }\n",
              "\n",
              "    [theme=dark] .colab-df-convert:hover {\n",
              "      background-color: #434B5C;\n",
              "      box-shadow: 0px 1px 3px 1px rgba(0, 0, 0, 0.15);\n",
              "      filter: drop-shadow(0px 1px 2px rgba(0, 0, 0, 0.3));\n",
              "      fill: #FFFFFF;\n",
              "    }\n",
              "  </style>\n",
              "\n",
              "    <script>\n",
              "      const buttonEl =\n",
              "        document.querySelector('#df-89ae7e46-a09e-45f8-ba75-16b0657e36cc button.colab-df-convert');\n",
              "      buttonEl.style.display =\n",
              "        google.colab.kernel.accessAllowed ? 'block' : 'none';\n",
              "\n",
              "      async function convertToInteractive(key) {\n",
              "        const element = document.querySelector('#df-89ae7e46-a09e-45f8-ba75-16b0657e36cc');\n",
              "        const dataTable =\n",
              "          await google.colab.kernel.invokeFunction('convertToInteractive',\n",
              "                                                    [key], {});\n",
              "        if (!dataTable) return;\n",
              "\n",
              "        const docLinkHtml = 'Like what you see? Visit the ' +\n",
              "          '<a target=\"_blank\" href=https://colab.research.google.com/notebooks/data_table.ipynb>data table notebook</a>'\n",
              "          + ' to learn more about interactive tables.';\n",
              "        element.innerHTML = '';\n",
              "        dataTable['output_type'] = 'display_data';\n",
              "        await google.colab.output.renderOutput(dataTable, element);\n",
              "        const docLink = document.createElement('div');\n",
              "        docLink.innerHTML = docLinkHtml;\n",
              "        element.appendChild(docLink);\n",
              "      }\n",
              "    </script>\n",
              "  </div>\n",
              "\n",
              "\n",
              "<div id=\"df-108a404d-79b5-434c-b7d0-1a81847b2e90\">\n",
              "  <button class=\"colab-df-quickchart\" onclick=\"quickchart('df-108a404d-79b5-434c-b7d0-1a81847b2e90')\"\n",
              "            title=\"Suggest charts\"\n",
              "            style=\"display:none;\">\n",
              "\n",
              "<svg xmlns=\"http://www.w3.org/2000/svg\" height=\"24px\"viewBox=\"0 0 24 24\"\n",
              "     width=\"24px\">\n",
              "    <g>\n",
              "        <path d=\"M19 3H5c-1.1 0-2 .9-2 2v14c0 1.1.9 2 2 2h14c1.1 0 2-.9 2-2V5c0-1.1-.9-2-2-2zM9 17H7v-7h2v7zm4 0h-2V7h2v10zm4 0h-2v-4h2v4z\"/>\n",
              "    </g>\n",
              "</svg>\n",
              "  </button>\n",
              "\n",
              "<style>\n",
              "  .colab-df-quickchart {\n",
              "      --bg-color: #E8F0FE;\n",
              "      --fill-color: #1967D2;\n",
              "      --hover-bg-color: #E2EBFA;\n",
              "      --hover-fill-color: #174EA6;\n",
              "      --disabled-fill-color: #AAA;\n",
              "      --disabled-bg-color: #DDD;\n",
              "  }\n",
              "\n",
              "  [theme=dark] .colab-df-quickchart {\n",
              "      --bg-color: #3B4455;\n",
              "      --fill-color: #D2E3FC;\n",
              "      --hover-bg-color: #434B5C;\n",
              "      --hover-fill-color: #FFFFFF;\n",
              "      --disabled-bg-color: #3B4455;\n",
              "      --disabled-fill-color: #666;\n",
              "  }\n",
              "\n",
              "  .colab-df-quickchart {\n",
              "    background-color: var(--bg-color);\n",
              "    border: none;\n",
              "    border-radius: 50%;\n",
              "    cursor: pointer;\n",
              "    display: none;\n",
              "    fill: var(--fill-color);\n",
              "    height: 32px;\n",
              "    padding: 0;\n",
              "    width: 32px;\n",
              "  }\n",
              "\n",
              "  .colab-df-quickchart:hover {\n",
              "    background-color: var(--hover-bg-color);\n",
              "    box-shadow: 0 1px 2px rgba(60, 64, 67, 0.3), 0 1px 3px 1px rgba(60, 64, 67, 0.15);\n",
              "    fill: var(--button-hover-fill-color);\n",
              "  }\n",
              "\n",
              "  .colab-df-quickchart-complete:disabled,\n",
              "  .colab-df-quickchart-complete:disabled:hover {\n",
              "    background-color: var(--disabled-bg-color);\n",
              "    fill: var(--disabled-fill-color);\n",
              "    box-shadow: none;\n",
              "  }\n",
              "\n",
              "  .colab-df-spinner {\n",
              "    border: 2px solid var(--fill-color);\n",
              "    border-color: transparent;\n",
              "    border-bottom-color: var(--fill-color);\n",
              "    animation:\n",
              "      spin 1s steps(1) infinite;\n",
              "  }\n",
              "\n",
              "  @keyframes spin {\n",
              "    0% {\n",
              "      border-color: transparent;\n",
              "      border-bottom-color: var(--fill-color);\n",
              "      border-left-color: var(--fill-color);\n",
              "    }\n",
              "    20% {\n",
              "      border-color: transparent;\n",
              "      border-left-color: var(--fill-color);\n",
              "      border-top-color: var(--fill-color);\n",
              "    }\n",
              "    30% {\n",
              "      border-color: transparent;\n",
              "      border-left-color: var(--fill-color);\n",
              "      border-top-color: var(--fill-color);\n",
              "      border-right-color: var(--fill-color);\n",
              "    }\n",
              "    40% {\n",
              "      border-color: transparent;\n",
              "      border-right-color: var(--fill-color);\n",
              "      border-top-color: var(--fill-color);\n",
              "    }\n",
              "    60% {\n",
              "      border-color: transparent;\n",
              "      border-right-color: var(--fill-color);\n",
              "    }\n",
              "    80% {\n",
              "      border-color: transparent;\n",
              "      border-right-color: var(--fill-color);\n",
              "      border-bottom-color: var(--fill-color);\n",
              "    }\n",
              "    90% {\n",
              "      border-color: transparent;\n",
              "      border-bottom-color: var(--fill-color);\n",
              "    }\n",
              "  }\n",
              "</style>\n",
              "\n",
              "  <script>\n",
              "    async function quickchart(key) {\n",
              "      const quickchartButtonEl =\n",
              "        document.querySelector('#' + key + ' button');\n",
              "      quickchartButtonEl.disabled = true;  // To prevent multiple clicks.\n",
              "      quickchartButtonEl.classList.add('colab-df-spinner');\n",
              "      try {\n",
              "        const charts = await google.colab.kernel.invokeFunction(\n",
              "            'suggestCharts', [key], {});\n",
              "      } catch (error) {\n",
              "        console.error('Error during call to suggestCharts:', error);\n",
              "      }\n",
              "      quickchartButtonEl.classList.remove('colab-df-spinner');\n",
              "      quickchartButtonEl.classList.add('colab-df-quickchart-complete');\n",
              "    }\n",
              "    (() => {\n",
              "      let quickchartButtonEl =\n",
              "        document.querySelector('#df-108a404d-79b5-434c-b7d0-1a81847b2e90 button');\n",
              "      quickchartButtonEl.style.display =\n",
              "        google.colab.kernel.accessAllowed ? 'block' : 'none';\n",
              "    })();\n",
              "  </script>\n",
              "</div>\n",
              "    </div>\n",
              "  </div>\n"
            ],
            "application/vnd.google.colaboratory.intrinsic+json": {
              "type": "dataframe",
              "variable_name": "rfm",
              "summary": "{\n  \"name\": \"rfm\",\n  \"rows\": 4308,\n  \"fields\": [\n    {\n      \"column\": \"recency\",\n      \"properties\": {\n        \"dtype\": \"number\",\n        \"std\": 98,\n        \"min\": 8,\n        \"max\": 373,\n        \"num_unique_values\": 297,\n        \"samples\": [\n          185,\n          263,\n          84\n        ],\n        \"semantic_type\": \"\",\n        \"description\": \"\"\n      }\n    },\n    {\n      \"column\": \"frequency\",\n      \"properties\": {\n        \"dtype\": \"number\",\n        \"std\": 7,\n        \"min\": 1,\n        \"max\": 201,\n        \"num_unique_values\": 55,\n        \"samples\": [\n          36,\n          9,\n          34\n        ],\n        \"semantic_type\": \"\",\n        \"description\": \"\"\n      }\n    },\n    {\n      \"column\": \"monetary\",\n      \"properties\": {\n        \"dtype\": \"Float64\",\n        \"num_unique_values\": 4225,\n        \"samples\": [\n          387.52,\n          3675.77,\n          1820.09\n        ],\n        \"semantic_type\": \"\",\n        \"description\": \"\"\n      }\n    },\n    {\n      \"column\": \"r_score\",\n      \"properties\": {\n        \"dtype\": \"number\",\n        \"std\": 1,\n        \"min\": 1,\n        \"max\": 4,\n        \"num_unique_values\": 4,\n        \"samples\": [\n          3,\n          4,\n          1\n        ],\n        \"semantic_type\": \"\",\n        \"description\": \"\"\n      }\n    },\n    {\n      \"column\": \"f_score\",\n      \"properties\": {\n        \"dtype\": \"number\",\n        \"std\": 1,\n        \"min\": 1,\n        \"max\": 4,\n        \"num_unique_values\": 4,\n        \"samples\": [\n          4,\n          2,\n          1\n        ],\n        \"semantic_type\": \"\",\n        \"description\": \"\"\n      }\n    },\n    {\n      \"column\": \"m_score\",\n      \"properties\": {\n        \"dtype\": \"number\",\n        \"std\": 1,\n        \"min\": 1,\n        \"max\": 4,\n        \"num_unique_values\": 4,\n        \"samples\": [\n          2,\n          3,\n          4\n        ],\n        \"semantic_type\": \"\",\n        \"description\": \"\"\n      }\n    },\n    {\n      \"column\": \"rfm_score\",\n      \"properties\": {\n        \"dtype\": \"category\",\n        \"num_unique_values\": 62,\n        \"samples\": [\n          \"143\",\n          \"421\",\n          \"114\"\n        ],\n        \"semantic_type\": \"\",\n        \"description\": \"\"\n      }\n    },\n    {\n      \"column\": \"rfm_segment\",\n      \"properties\": {\n        \"dtype\": \"category\",\n        \"num_unique_values\": 11,\n        \"samples\": [\n          \"Lost\",\n          \"About to Sleep\",\n          \"Promising Customers\"\n        ],\n        \"semantic_type\": \"\",\n        \"description\": \"\"\n      }\n    }\n  ]\n}"
            }
          },
          "metadata": {},
          "execution_count": 225
        }
      ]
    },
    {
      "cell_type": "markdown",
      "source": [
        "I'm going to check if there are any missing values (customers without RFM segments assigned)."
      ],
      "metadata": {
        "id": "mFky-3UirmyC"
      }
    },
    {
      "cell_type": "code",
      "source": [
        "if rfm.isna().any().any():\n",
        "    print(\"There are missing values in the DataFrame\")\n",
        "else:\n",
        "    print(\"There are no missing values in the DataFrame\")"
      ],
      "metadata": {
        "colab": {
          "base_uri": "https://localhost:8080/"
        },
        "id": "ANkHqeEGv9uY",
        "outputId": "1d48e0c1-475b-4e0c-9bb3-660323c98501"
      },
      "execution_count": 226,
      "outputs": [
        {
          "output_type": "stream",
          "name": "stdout",
          "text": [
            "There are no missing values in the DataFrame\n"
          ]
        }
      ]
    },
    {
      "cell_type": "markdown",
      "source": [
        "I'm going to calculate how many customers are in each RFM segment and determine their share of the total."
      ],
      "metadata": {
        "id": "AMtQEuTPr-xt"
      }
    },
    {
      "cell_type": "code",
      "source": [
        "customers_by_segment = rfm['rfm_segment'].value_counts().sort_values(ascending=True)\n",
        "\n",
        "segment_info = pd.DataFrame({'Customers': customers_by_segment,\n",
        "                             'Share (%)': (customers_by_segment / customers_by_segment.sum()) * 100})\n",
        "\n",
        "# Defining custom sorting order based on the priority of the segment to the business\n",
        "segment_order = {\n",
        "    'Champions': 1,\n",
        "    'Loyal Customers': 2,\n",
        "    'Potential Loyalists': 3,\n",
        "    'Recent Customers': 4,\n",
        "    'Promising Customers': 5,\n",
        "    'Needing Attention': 6,\n",
        "    'About to Sleep': 7,\n",
        "    'At Risk': 8,\n",
        "    \"Can't Lose Them\": 9,\n",
        "    'Hibernating': 10,\n",
        "    'Lost': 11\n",
        "}\n",
        "\n",
        "segment_info_sorted = segment_info.reindex(sorted(segment_order, key=segment_order.get))\n",
        "print(segment_info_sorted)"
      ],
      "metadata": {
        "colab": {
          "base_uri": "https://localhost:8080/"
        },
        "id": "KWEwK6Yo_M3-",
        "outputId": "f725f0fa-4a60-4c12-bb35-919b4bd4a034"
      },
      "execution_count": 227,
      "outputs": [
        {
          "output_type": "stream",
          "name": "stdout",
          "text": [
            "                     Customers  Share (%)\n",
            "rfm_segment                              \n",
            "Champions                  698       16.2\n",
            "Loyal Customers            255        5.9\n",
            "Potential Loyalists        585       13.6\n",
            "Recent Customers           264        6.1\n",
            "Promising Customers        509       11.8\n",
            "Needing Attention          102        2.4\n",
            "About to Sleep             412        9.6\n",
            "At Risk                    106        2.5\n",
            "Can't Lose Them             34        0.8\n",
            "Hibernating                903       21.0\n",
            "Lost                       440       10.2\n"
          ]
        }
      ]
    },
    {
      "cell_type": "markdown",
      "source": [
        "I'd like to visualize this data."
      ],
      "metadata": {
        "id": "tpdt0H9ouNq9"
      }
    },
    {
      "cell_type": "code",
      "source": [
        "# Creating a horizontal bar plot showing the distribution of customers across RFM segments\n",
        "plt.figure(figsize=(4, 3))\n",
        "\n",
        "bars = plt.barh(range(len(customers_by_segment)),\n",
        "                customers_by_segment,\n",
        "                color='silver')\n",
        "plt.gca().set_frame_on(False)\n",
        "plt.gca().tick_params(left=False, bottom=False, labelbottom=False)\n",
        "plt.yticks(range(len(customers_by_segment)), customers_by_segment.index)\n",
        "\n",
        "for i, bar in enumerate(bars):\n",
        "    value = bar.get_width()\n",
        "    if customers_by_segment.index[i] in ['Champions', 'Loyal Customers']:\n",
        "        bar.set_color('#4682B4')\n",
        "    plt.text(value,\n",
        "             bar.get_y() + bar.get_height()/2,\n",
        "             '{:,} ({:.1f}%)'.format(int(value), value * 100 / customers_by_segment.sum()),\n",
        "             va='center',\n",
        "             ha='left')\n",
        "\n",
        "plt.show()"
      ],
      "metadata": {
        "colab": {
          "base_uri": "https://localhost:8080/",
          "height": 268
        },
        "id": "5j2unCm3_hqP",
        "outputId": "a9709337-d5bb-41b6-dc0b-6adfea9af130"
      },
      "execution_count": 228,
      "outputs": [
        {
          "output_type": "display_data",
          "data": {
            "text/plain": [
              "<Figure size 400x300 with 1 Axes>"
            ],
            "image/png": "[encoded data removed]"
          },
          "metadata": {}
        }
      ]
    },
    {
      "cell_type": "markdown",
      "source": [
        "What's observed here:\n",
        "\n",
        "The majority of customers are in the 'Hibernating' segment (20.9%), followed by 'Champions' with 16.2%.\n",
        "\n",
        "The lowest number of customers are assigned to the 'Can't lose them', 'Needing Attention' and 'At Risk' segments."
      ],
      "metadata": {
        "id": "TmOTqa8D_oon"
      }
    },
    {
      "cell_type": "markdown",
      "source": [
        "I'm going to calculate aggregated metrics for each RFM segment, including total sales, average recency, average frequency and average monetary. This analysis will help evaluate each segment's value to the business.\n",
        "\n"
      ],
      "metadata": {
        "id": "MOqGDIjY1Kur"
      }
    },
    {
      "cell_type": "code",
      "source": [
        "segments_agg = rfm.groupby('rfm_segment').agg({\n",
        "                                              'recency': 'mean',\n",
        "                                              'frequency': 'mean',\n",
        "                                              'monetary': ['sum', 'mean']\n",
        "                                              }).round(1)\n",
        "\n",
        "segments_sorted = segments_agg.reindex(sorted(segment_order, key=segment_order.get))\n",
        "\n",
        "recency_df = segments_sorted['recency'].rename(columns={'mean': 'Avg Recency'})\n",
        "frequency_df = segments_sorted['frequency'].rename(columns={'mean': 'Avg Frequency'})\n",
        "monetary_df = segments_sorted['monetary']['mean'].rename('Avg Monetary')\n",
        "revenue_df = segments_sorted['monetary']['sum'].rename('Revenue')\n",
        "\n",
        "segments_df = pd.concat([revenue_df, recency_df, frequency_df, monetary_df], axis=1)\n",
        "\n",
        "total_revenue = segments_df['Revenue'].astype(float).sum()\n",
        "segments_df['Revenue (%)'] = (segments_df['Revenue'].astype(float) / total_revenue) * 100\n",
        "\n",
        "segments_df = segments_df[['Revenue', 'Revenue (%)', 'Avg Recency', 'Avg Frequency', 'Avg Monetary']]\n",
        "\n",
        "print(\"\\nSegments Metrics Summary:\")\n",
        "print(segments_df)"
      ],
      "metadata": {
        "colab": {
          "base_uri": "https://localhost:8080/"
        },
        "id": "BkF8yedHthzn",
        "outputId": "6faf91e4-c29b-402a-a4db-3a1befc6e271"
      },
      "execution_count": 229,
      "outputs": [
        {
          "output_type": "stream",
          "name": "stdout",
          "text": [
            "\n",
            "Segments Metrics Summary:\n",
            "                        Revenue  Revenue (%)  Avg Recency  Avg Frequency  \\\n",
            "rfm_segment                                                                \n",
            "Champions           5,385,329.2         64.0         22.0           13.2   \n",
            "Loyal Customers       458,898.3          5.5         62.5            3.5   \n",
            "Potential Loyalists   657,020.4          7.8         26.3            4.0   \n",
            "Recent Customers      115,811.1          1.4         19.5            1.4   \n",
            "Promising Customers   181,586.0          2.2         35.9            1.9   \n",
            "Needing Attention     317,638.0          3.8         82.3            7.2   \n",
            "About to Sleep        487,705.1          5.8        163.2            2.5   \n",
            "At Risk               222,421.0          2.6         89.8            4.5   \n",
            "Can't Lose Them       170,597.7          2.0        217.6            6.7   \n",
            "Hibernating           346,347.8          4.1        159.4            1.3   \n",
            "Lost                   71,069.1          0.8        269.7            1.0   \n",
            "\n",
            "                     Avg Monetary  \n",
            "rfm_segment                        \n",
            "Champions                 7,715.4  \n",
            "Loyal Customers           1,799.6  \n",
            "Potential Loyalists       1,123.1  \n",
            "Recent Customers            438.7  \n",
            "Promising Customers         356.8  \n",
            "Needing Attention         3,114.1  \n",
            "About to Sleep            1,183.8  \n",
            "At Risk                   2,098.3  \n",
            "Can't Lose Them           5,017.6  \n",
            "Hibernating                 383.6  \n",
            "Lost                        161.5  \n"
          ]
        }
      ]
    },
    {
      "cell_type": "markdown",
      "source": [
        "What's observed here:\n",
        "\n",
        "* '**Champions**', '**Loyal Customers**' and '**Potential Loyalists**' together constitute around one-third of all customers (35.7%), generating 77% of the sales.\n",
        "* The '**Champions**' are our most valuable and profitable cutomers, comprising 16.2% of all customers and generating 64% of all sales.\n",
        "* Although '**Potential Loyalists**' are not as active as 'Champions', they show potential for becoming long-term, high-value customers with 13.6% of all customers and 7.8% of revenue.\n",
        "* It is a risk that the '**Hibernating**' group is so substantial - almost 21% of all customers. There is an opportunity to potentially reactivate some of this group through targeted outreach campaigns and convert them to more profitable segments.\n",
        "* The marketing team should also focus on the '**About to Sleep**' group to improve customer retention, as they currently contribute 5.8% of total sales."
      ],
      "metadata": {
        "id": "hgxmumWkFleo"
      }
    },
    {
      "cell_type": "markdown",
      "source": [
        "This graph shows the distribution of our customers based on their average recency, frequency and monetary."
      ],
      "metadata": {
        "id": "n_tB_Hmv2v5w"
      }
    },
    {
      "cell_type": "code",
      "source": [
        "bubble_size = segments_df['Avg Monetary']\n",
        "\n",
        "plt.figure(figsize=(10, 6))\n",
        "for segment in segments_df.index:\n",
        "    plt.scatter(segments_df.loc[segment, 'Avg Recency'], segments_df.loc[segment, 'Avg Frequency'],\n",
        "                s=bubble_size[segment], alpha=0.5)\n",
        "    label = f\"{segment}\\n${segments_df.loc[segment, 'Avg Monetary']:,}\"\n",
        "    plt.text(segments_df.loc[segment, 'Avg Recency'], segments_df.loc[segment, 'Avg Frequency'] - 0.5,\n",
        "             label, ha='center')\n",
        "\n",
        "plt.xlabel('Average Recency')\n",
        "plt.ylabel('Average Frequency')\n",
        "plt.title('RFM Segments Analysis')\n",
        "\n",
        "plt.show()"
      ],
      "metadata": {
        "colab": {
          "base_uri": "https://localhost:8080/",
          "height": 564
        },
        "id": "426uuku01S7Z",
        "outputId": "29362b2f-2e15-46fc-d424-155c4bea10f1"
      },
      "execution_count": 230,
      "outputs": [
        {
          "output_type": "display_data",
          "data": {
            "text/plain": [
              "<Figure size 1000x600 with 1 Axes>"
            ],
            "image/png": "[encoded data removed]"
          },
          "metadata": {}
        }
      ]
    },
    {
      "cell_type": "markdown",
      "source": [
        "What's observed here:\n",
        "\n",
        "* '**Champions**' are those who buy most often and have made their last order recently.\n",
        "* '**Recent Customers**' and '**Promising Customers**' made purchases not long ago but are not yet frequent buyers.\n",
        "* '**Can't Lose Them**' are low in number but significant revenue contributors.\n",
        "* '**Lost**' customers have the lowest recency and frequency scores."
      ],
      "metadata": {
        "id": "sYA5QeAEu2tX"
      }
    },
    {
      "cell_type": "markdown",
      "source": [
        "Let's take a closer look at the distribution of the segments we want to focus on."
      ],
      "metadata": {
        "id": "Uurs7WojIsr8"
      }
    },
    {
      "cell_type": "code",
      "source": [
        "colnames = ['recency', 'frequency', 'monetary']\n",
        "segments = ['Champions', 'Loyal Customers', 'Potential Loyalists', 'Hibernating', 'About to Sleep']\n",
        "\n",
        "for col in colnames:\n",
        "    plt.figure(figsize=(9, 3))\n",
        "    for segment in segments:\n",
        "        data = rfm[rfm['rfm_segment'] == segment][col]\n",
        "        if not data.empty:\n",
        "            sns.histplot(data, kde=True, label=segment)\n",
        "    plt.title('Distribution of %s' % col)\n",
        "    plt.legend()\n",
        "    plt.xscale('log') # Setting logarithmic scale on x-axis to reduce the skewness and make the distributions more interpretable\n",
        "    plt.show()"
      ],
      "metadata": {
        "colab": {
          "base_uri": "https://localhost:8080/",
          "height": 980
        },
        "id": "qCvPSNbmELDF",
        "outputId": "af0e7f5c-adc4-47ea-9a6c-4b8083217821"
      },
      "execution_count": 231,
      "outputs": [
        {
          "output_type": "display_data",
          "data": {
            "text/plain": [
              "<Figure size 900x300 with 1 Axes>"
            ],
            "image/png": "[encoded data removed]"
          },
          "metadata": {}
        },
        {
          "output_type": "display_data",
          "data": {
            "text/plain": [
              "<Figure size 900x300 with 1 Axes>"
            ],
            "image/png": "[encoded data removed]"
          },
          "metadata": {}
        },
        {
          "output_type": "display_data",
          "data": {
            "text/plain": [
              "<Figure size 900x300 with 1 Axes>"
            ],
            "image/png": "[encoded data removed]"
          },
          "metadata": {}
        }
      ]
    },
    {
      "cell_type": "markdown",
      "source": [
        "What's observed here:\n",
        "\n",
        "These distributions suggest that there are visible differences between different segments of customers. By examining the distribution of segments such as 'Champions', 'Loyal Customers', 'Potential Loyalists', 'Hibernating' and 'About to Sleep', it's noticeble that they constitute different portions of the total distribution. For example, 'Hibernating' customers are responsible for first monetary peak, while 'Champions' are responsible for the second.\n"
      ],
      "metadata": {
        "id": "dYyYSW5hJFXh"
      }
    },
    {
      "cell_type": "markdown",
      "source": [
        "**Recommendations**\n",
        "\n",
        "\n",
        "---\n",
        "\n"
      ],
      "metadata": {
        "id": "b8a_bwWv2YMz"
      }
    },
    {
      "cell_type": "markdown",
      "source": [
        "* High-Value Customers:\n",
        "\n",
        " * Champions: Recent, frequent customers who contribute significantly to revenue. They promote the brand and new products.\n",
        " * Loyal Customers: Less frequent but longstanding customers who add up to a substantial revenue share. They respond well to promotions and loyalty rewards.\n",
        "\n",
        "* Potential Growth Segments:\n",
        "\n",
        " * Potential Loyalists: Show potential for becoming long-term, high-value customers. They respond well to loyalty programs and memberships.\n",
        " * Recent Customers: Recently started buying; need onboarding support to increase frequency and value.\n",
        "\n",
        "* Engagement Opportunities:\n",
        "\n",
        " * Promising Customers: Show frequency potential but low monetary contribution.\n",
        " * Needing Attention: High-frequency, high-value customers showing signs of decreased activity.\n",
        " * At Risk: Show signs of decreasing frequency and monetary value. Opportunity for targeted engagement strategies aimed at retaining their interest and loyalty.\n",
        "\n",
        "* Reactivation Targets:\n",
        "\n",
        " * About to Sleep: Inactive for some time, need re-engagement strategies.\n",
        " * Can't Lose Them: Low in number but significant revenue contributors; need retention efforts.\n",
        " * Hibernating: Inactive for a while, but represent a target for reactivation campaigns.\n",
        "\n",
        "* Lost Opportunities:\n",
        "\n",
        " * Lost Customers: Inactive for an extended period, challenging to re-engage.\n"
      ],
      "metadata": {
        "id": "SzVTmLfmy4vT"
      }
    },
    {
      "cell_type": "markdown",
      "source": [
        "**Conclusion**\n",
        "\n",
        "---\n",
        "\n"
      ],
      "metadata": {
        "id": "k5MZqoU_3KBp"
      }
    },
    {
      "cell_type": "markdown",
      "source": [
        "By understanding the unique needs and behaviors of each segment, we can tailor our approach to maximize customer engagement, satisfaction and, ultimately, revenue growth. RFM segmentation is a powerful tool to guide our marketing and operational decisions for a more customer-centric and effective business strategy."
      ],
      "metadata": {
        "id": "_LqAAOsP6KRH"
      }
    }
  ]
}